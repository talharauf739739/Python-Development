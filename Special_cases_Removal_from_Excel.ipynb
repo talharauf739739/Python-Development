{
  "nbformat": 4,
  "nbformat_minor": 0,
  "metadata": {
    "colab": {
      "provenance": []
    },
    "kernelspec": {
      "name": "python3",
      "display_name": "Python 3"
    }
  },
  "cells": [
    {
      "cell_type": "markdown",
      "metadata": {
        "id": "lP6JLo1tGNBg"
      },
      "source": [
        "# Artificial Neural Network"
      ]
    },
    {
      "cell_type": "markdown",
      "metadata": {
        "id": "gWZyYmS_UE_L"
      },
      "source": [
        "### Importing the libraries"
      ]
    },
    {
      "cell_type": "code",
      "metadata": {
        "id": "MxkJoQBkUIHC"
      },
      "source": [
        "import numpy as np\n",
        "import pandas as pd\n",
        "import tensorflow as tf"
      ],
      "execution_count": 24,
      "outputs": []
    },
    {
      "cell_type": "code",
      "metadata": {
        "id": "ZaTwK7ojXr2F",
        "outputId": "0e899f2d-67df-4205-a0c0-c4fef7da11d8",
        "colab": {
          "base_uri": "https://localhost:8080/",
          "height": 35
        }
      },
      "source": [
        "tf.__version__"
      ],
      "execution_count": 25,
      "outputs": [
        {
          "output_type": "execute_result",
          "data": {
            "text/plain": [
              "'2.9.2'"
            ],
            "application/vnd.google.colaboratory.intrinsic+json": {
              "type": "string"
            }
          },
          "metadata": {},
          "execution_count": 25
        }
      ]
    },
    {
      "cell_type": "markdown",
      "metadata": {
        "id": "1E0Q3aoKUCRX"
      },
      "source": [
        "## Part 1 - Data Preprocessing"
      ]
    },
    {
      "cell_type": "markdown",
      "metadata": {
        "id": "cKWAkFVGUU0Z"
      },
      "source": [
        "### Importing the dataset"
      ]
    },
    {
      "cell_type": "code",
      "metadata": {
        "id": "MXUkhkMfU4wq"
      },
      "source": [
        "df = pd.read_csv('Maryland_Gmails.csv')\n"
      ],
      "execution_count": 26,
      "outputs": []
    },
    {
      "cell_type": "code",
      "source": [
        "import re\n",
        "\n",
        "# put the special characters in a list\n",
        "special_char = ['\"', '*', '/', '(', ')', ':', '\\n','[',']',\"'\", ',']\n",
        "\n",
        "special_char_escaped = list(map(re.escape, special_char))\n",
        "\n",
        "df['Email'] = df['Email'].replace(special_char_escaped, '', regex=True)"
      ],
      "metadata": {
        "id": "-RBmz7dfr-Zt"
      },
      "execution_count": 27,
      "outputs": []
    },
    {
      "cell_type": "code",
      "source": [
        "df"
      ],
      "metadata": {
        "colab": {
          "base_uri": "https://localhost:8080/",
          "height": 424
        },
        "id": "chjjaaEysYze",
        "outputId": "8ba7a8f4-1959-4c67-b3f2-174fbd0f0b8b"
      },
      "execution_count": 28,
      "outputs": [
        {
          "output_type": "execute_result",
          "data": {
            "text/plain": [
              "                                                  Name  \\\n",
              "0    Jill Feinberg - Mt. Washington Pediatric Hospital   \n",
              "1               Mary Willems - Clinical System Analyst   \n",
              "2    Amy Ries Occupational Therapy LLC - Private Pe...   \n",
              "3    brandy huser - Baltimore, Maryland, United States   \n",
              "4          Pasquale Bernardi - Medical Group President   \n",
              "..                                                 ...   \n",
              "311  Key Staff | Arthur C. Clarke Institute for Spa...   \n",
              "312  Annual Biomedical Research Conference for Mino...   \n",
              "313  Staff | National Center for Earth and Space Sc...   \n",
              "314                                       Lesly center   \n",
              "315  Faculty | Biomedical Informatics and Data Scie...   \n",
              "\n",
              "                                                  Link  \\\n",
              "0    https://www.linkedin.com/in/jill-feinberg-b963246   \n",
              "1     https://www.linkedin.com/in/mary-willems-8566716   \n",
              "2                  https://www.linkedin.com/in/amyries   \n",
              "3    https://www.linkedin.com/in/brandy-huser-23a51...   \n",
              "4       https://www.linkedin.com/in/pasqualebernardimd   \n",
              "..                                                 ...   \n",
              "311        http://clarkeinstitute.org/about/key-staff/   \n",
              "312  https://abrcms.org/images/Past_Programs/Final_...   \n",
              "313                     http://ncesse.org/about/staff/   \n",
              "314              https://kidshockey.shop/wphixydx.html   \n",
              "315           http://dhsi.med.jhmi.edu/content/faculty   \n",
              "\n",
              "                          Email  \n",
              "0       jillbfeinberg@gmail.com  \n",
              "1            mmalsbar@gmail.com  \n",
              "2           asmsefret@gmail.com  \n",
              "3         brandyhuser@gmail.com  \n",
              "4    pasqualebernardi@gmail.com  \n",
              "..                          ...  \n",
              "311    todd.miller67@gmail.com.  \n",
              "312         pkcarter@gmail.com.  \n",
              "313    todd.miller67@gmail.com.  \n",
              "314    lesliecenter56@gmail.com  \n",
              "315       Marionball6@gmail.com  \n",
              "\n",
              "[316 rows x 3 columns]"
            ],
            "text/html": [
              "\n",
              "  <div id=\"df-98354f87-9c3a-4907-b85f-26f9199f865f\">\n",
              "    <div class=\"colab-df-container\">\n",
              "      <div>\n",
              "<style scoped>\n",
              "    .dataframe tbody tr th:only-of-type {\n",
              "        vertical-align: middle;\n",
              "    }\n",
              "\n",
              "    .dataframe tbody tr th {\n",
              "        vertical-align: top;\n",
              "    }\n",
              "\n",
              "    .dataframe thead th {\n",
              "        text-align: right;\n",
              "    }\n",
              "</style>\n",
              "<table border=\"1\" class=\"dataframe\">\n",
              "  <thead>\n",
              "    <tr style=\"text-align: right;\">\n",
              "      <th></th>\n",
              "      <th>Name</th>\n",
              "      <th>Link</th>\n",
              "      <th>Email</th>\n",
              "    </tr>\n",
              "  </thead>\n",
              "  <tbody>\n",
              "    <tr>\n",
              "      <th>0</th>\n",
              "      <td>Jill Feinberg - Mt. Washington Pediatric Hospital</td>\n",
              "      <td>https://www.linkedin.com/in/jill-feinberg-b963246</td>\n",
              "      <td>jillbfeinberg@gmail.com</td>\n",
              "    </tr>\n",
              "    <tr>\n",
              "      <th>1</th>\n",
              "      <td>Mary Willems - Clinical System Analyst</td>\n",
              "      <td>https://www.linkedin.com/in/mary-willems-8566716</td>\n",
              "      <td>mmalsbar@gmail.com</td>\n",
              "    </tr>\n",
              "    <tr>\n",
              "      <th>2</th>\n",
              "      <td>Amy Ries Occupational Therapy LLC - Private Pe...</td>\n",
              "      <td>https://www.linkedin.com/in/amyries</td>\n",
              "      <td>asmsefret@gmail.com</td>\n",
              "    </tr>\n",
              "    <tr>\n",
              "      <th>3</th>\n",
              "      <td>brandy huser - Baltimore, Maryland, United States</td>\n",
              "      <td>https://www.linkedin.com/in/brandy-huser-23a51...</td>\n",
              "      <td>brandyhuser@gmail.com</td>\n",
              "    </tr>\n",
              "    <tr>\n",
              "      <th>4</th>\n",
              "      <td>Pasquale Bernardi - Medical Group President</td>\n",
              "      <td>https://www.linkedin.com/in/pasqualebernardimd</td>\n",
              "      <td>pasqualebernardi@gmail.com</td>\n",
              "    </tr>\n",
              "    <tr>\n",
              "      <th>...</th>\n",
              "      <td>...</td>\n",
              "      <td>...</td>\n",
              "      <td>...</td>\n",
              "    </tr>\n",
              "    <tr>\n",
              "      <th>311</th>\n",
              "      <td>Key Staff | Arthur C. Clarke Institute for Spa...</td>\n",
              "      <td>http://clarkeinstitute.org/about/key-staff/</td>\n",
              "      <td>todd.miller67@gmail.com.</td>\n",
              "    </tr>\n",
              "    <tr>\n",
              "      <th>312</th>\n",
              "      <td>Annual Biomedical Research Conference for Mino...</td>\n",
              "      <td>https://abrcms.org/images/Past_Programs/Final_...</td>\n",
              "      <td>pkcarter@gmail.com.</td>\n",
              "    </tr>\n",
              "    <tr>\n",
              "      <th>313</th>\n",
              "      <td>Staff | National Center for Earth and Space Sc...</td>\n",
              "      <td>http://ncesse.org/about/staff/</td>\n",
              "      <td>todd.miller67@gmail.com.</td>\n",
              "    </tr>\n",
              "    <tr>\n",
              "      <th>314</th>\n",
              "      <td>Lesly center</td>\n",
              "      <td>https://kidshockey.shop/wphixydx.html</td>\n",
              "      <td>lesliecenter56@gmail.com</td>\n",
              "    </tr>\n",
              "    <tr>\n",
              "      <th>315</th>\n",
              "      <td>Faculty | Biomedical Informatics and Data Scie...</td>\n",
              "      <td>http://dhsi.med.jhmi.edu/content/faculty</td>\n",
              "      <td>Marionball6@gmail.com</td>\n",
              "    </tr>\n",
              "  </tbody>\n",
              "</table>\n",
              "<p>316 rows × 3 columns</p>\n",
              "</div>\n",
              "      <button class=\"colab-df-convert\" onclick=\"convertToInteractive('df-98354f87-9c3a-4907-b85f-26f9199f865f')\"\n",
              "              title=\"Convert this dataframe to an interactive table.\"\n",
              "              style=\"display:none;\">\n",
              "        \n",
              "  <svg xmlns=\"http://www.w3.org/2000/svg\" height=\"24px\"viewBox=\"0 0 24 24\"\n",
              "       width=\"24px\">\n",
              "    <path d=\"M0 0h24v24H0V0z\" fill=\"none\"/>\n",
              "    <path d=\"M18.56 5.44l.94 2.06.94-2.06 2.06-.94-2.06-.94-.94-2.06-.94 2.06-2.06.94zm-11 1L8.5 8.5l.94-2.06 2.06-.94-2.06-.94L8.5 2.5l-.94 2.06-2.06.94zm10 10l.94 2.06.94-2.06 2.06-.94-2.06-.94-.94-2.06-.94 2.06-2.06.94z\"/><path d=\"M17.41 7.96l-1.37-1.37c-.4-.4-.92-.59-1.43-.59-.52 0-1.04.2-1.43.59L10.3 9.45l-7.72 7.72c-.78.78-.78 2.05 0 2.83L4 21.41c.39.39.9.59 1.41.59.51 0 1.02-.2 1.41-.59l7.78-7.78 2.81-2.81c.8-.78.8-2.07 0-2.86zM5.41 20L4 18.59l7.72-7.72 1.47 1.35L5.41 20z\"/>\n",
              "  </svg>\n",
              "      </button>\n",
              "      \n",
              "  <style>\n",
              "    .colab-df-container {\n",
              "      display:flex;\n",
              "      flex-wrap:wrap;\n",
              "      gap: 12px;\n",
              "    }\n",
              "\n",
              "    .colab-df-convert {\n",
              "      background-color: #E8F0FE;\n",
              "      border: none;\n",
              "      border-radius: 50%;\n",
              "      cursor: pointer;\n",
              "      display: none;\n",
              "      fill: #1967D2;\n",
              "      height: 32px;\n",
              "      padding: 0 0 0 0;\n",
              "      width: 32px;\n",
              "    }\n",
              "\n",
              "    .colab-df-convert:hover {\n",
              "      background-color: #E2EBFA;\n",
              "      box-shadow: 0px 1px 2px rgba(60, 64, 67, 0.3), 0px 1px 3px 1px rgba(60, 64, 67, 0.15);\n",
              "      fill: #174EA6;\n",
              "    }\n",
              "\n",
              "    [theme=dark] .colab-df-convert {\n",
              "      background-color: #3B4455;\n",
              "      fill: #D2E3FC;\n",
              "    }\n",
              "\n",
              "    [theme=dark] .colab-df-convert:hover {\n",
              "      background-color: #434B5C;\n",
              "      box-shadow: 0px 1px 3px 1px rgba(0, 0, 0, 0.15);\n",
              "      filter: drop-shadow(0px 1px 2px rgba(0, 0, 0, 0.3));\n",
              "      fill: #FFFFFF;\n",
              "    }\n",
              "  </style>\n",
              "\n",
              "      <script>\n",
              "        const buttonEl =\n",
              "          document.querySelector('#df-98354f87-9c3a-4907-b85f-26f9199f865f button.colab-df-convert');\n",
              "        buttonEl.style.display =\n",
              "          google.colab.kernel.accessAllowed ? 'block' : 'none';\n",
              "\n",
              "        async function convertToInteractive(key) {\n",
              "          const element = document.querySelector('#df-98354f87-9c3a-4907-b85f-26f9199f865f');\n",
              "          const dataTable =\n",
              "            await google.colab.kernel.invokeFunction('convertToInteractive',\n",
              "                                                     [key], {});\n",
              "          if (!dataTable) return;\n",
              "\n",
              "          const docLinkHtml = 'Like what you see? Visit the ' +\n",
              "            '<a target=\"_blank\" href=https://colab.research.google.com/notebooks/data_table.ipynb>data table notebook</a>'\n",
              "            + ' to learn more about interactive tables.';\n",
              "          element.innerHTML = '';\n",
              "          dataTable['output_type'] = 'display_data';\n",
              "          await google.colab.output.renderOutput(dataTable, element);\n",
              "          const docLink = document.createElement('div');\n",
              "          docLink.innerHTML = docLinkHtml;\n",
              "          element.appendChild(docLink);\n",
              "        }\n",
              "      </script>\n",
              "    </div>\n",
              "  </div>\n",
              "  "
            ]
          },
          "metadata": {},
          "execution_count": 28
        }
      ]
    },
    {
      "cell_type": "code",
      "source": [
        "df.to_csv('/content/Clean_Maryland_mails.csv')"
      ],
      "metadata": {
        "id": "wuBq3Ij-sbad"
      },
      "execution_count": 29,
      "outputs": []
    },
    {
      "cell_type": "code",
      "source": [],
      "metadata": {
        "id": "mkDcDSi1uXCd"
      },
      "execution_count": null,
      "outputs": []
    }
  ]
}