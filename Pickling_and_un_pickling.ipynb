{
  "nbformat": 4,
  "nbformat_minor": 0,
  "metadata": {
    "colab": {
      "provenance": []
    },
    "kernelspec": {
      "name": "python3",
      "display_name": "Python 3"
    },
    "language_info": {
      "name": "python"
    }
  },
  "cells": [
    {
      "cell_type": "code",
      "execution_count": null,
      "metadata": {
        "id": "L9KrWqLx0WVP"
      },
      "outputs": [],
      "source": [
        "#code in python\n",
        "\n",
        "#Pickling code in python\n",
        "\n",
        "import pickle\n",
        "\n",
        "# An example object\n",
        "my_obj = {\n",
        "    'name': 'John',\n",
        "    'age': 30\n",
        "}\n",
        "\n",
        "# Serializing the object\n",
        "with open('my_obj.pkl', 'wb') as f:\n",
        "    pickle.dump(my_obj, f)\n",
        "\n",
        "# Deserializing the object\n",
        "with open('my_obj.pkl', 'rb') as f:\n",
        "    deserialized_obj = pickle.load(f)"
      ]
    }
  ]
}