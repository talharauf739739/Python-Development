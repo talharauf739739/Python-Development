{
  "nbformat": 4,
  "nbformat_minor": 0,
  "metadata": {
    "colab": {
      "provenance": []
    },
    "kernelspec": {
      "name": "python3",
      "display_name": "Python 3"
    },
    "language_info": {
      "name": "python"
    }
  },
  "cells": [
    {
      "cell_type": "markdown",
      "source": [
        "**Generator-Function:** A generator-function is defined like a normal function, but whenever it needs to generate a value, it does so with the yield keyword rather than return. If the body of a def contains yield, the function automatically becomes a generator function. "
      ],
      "metadata": {
        "id": "YYmG10HjFi66"
      }
    },
    {
      "cell_type": "code",
      "source": [
        "# A generator function that yields 1 for first time,\n",
        "# 2 second time and 3 third time\n",
        "def simpleGeneratorFun():\n",
        "\tyield 1\t\t\n",
        "\tyield 2\t\t\n",
        "\tyield 3\t\t\n",
        "\n",
        "# Driver code to check above generator function\n",
        "for value in simpleGeneratorFun():\n",
        "\tprint(value)\n"
      ],
      "metadata": {
        "colab": {
          "base_uri": "https://localhost:8080/"
        },
        "id": "WPnfk6fBFm-O",
        "outputId": "7135507b-947c-499d-e997-f68a65fd6434"
      },
      "execution_count": null,
      "outputs": [
        {
          "output_type": "stream",
          "name": "stdout",
          "text": [
            "1\n",
            "2\n",
            "3\n"
          ]
        }
      ]
    },
    {
      "cell_type": "markdown",
      "source": [
        "Generator-Object : Generator functions return a generator object. Generator objects are used either by calling the next method on the generator object or using the generator object in a “for in” loop (as shown in the above program). "
      ],
      "metadata": {
        "id": "vakOAx-HFyVQ"
      }
    },
    {
      "cell_type": "code",
      "source": [
        "# A Python program to demonstrate use of\n",
        "# generator object with next()\n",
        "\n",
        "# A generator function\n",
        "def simpleGeneratorFun():\n",
        "\tyield 1\n",
        "\tyield 2\n",
        "\tyield 3\n",
        "\n",
        "# x is a generator object\n",
        "x = simpleGeneratorFun()\n",
        "\n",
        "# Iterating over the generator object using next\n",
        "print(next(x)) # In Python 3, __next__()\n",
        "print(next(x))\n",
        "print(next(x))\n"
      ],
      "metadata": {
        "colab": {
          "base_uri": "https://localhost:8080/"
        },
        "id": "g_WnX9h4FrwB",
        "outputId": "b95a39ed-4c8e-46ab-8291-ed9e9a9e090f"
      },
      "execution_count": null,
      "outputs": [
        {
          "output_type": "stream",
          "name": "stdout",
          "text": [
            "1\n",
            "2\n",
            "3\n"
          ]
        }
      ]
    },
    {
      "cell_type": "markdown",
      "source": [
        "So a generator function returns an generator object that is iterable, i.e., can be used as an **Iterators** . As another example, below is a generator for Fibonacci Numbers. "
      ],
      "metadata": {
        "id": "86bxa8zcME5G"
      }
    },
    {
      "cell_type": "code",
      "source": [
        "# A simple generator for Fibonacci Numbers\n",
        "def fib(limit):\n",
        "\t\n",
        "\t# Initialize first two Fibonacci Numbers\n",
        "\ta, b = 0, 1\n",
        "\n",
        "\t# One by one yield next Fibonacci Number\n",
        "\twhile a < limit:\n",
        "\t\tyield a\n",
        "\t\ta, b = b, a + b\n",
        "\n",
        "# Create a generator object\n",
        "x = fib(5)\n",
        "\n",
        "# Iterating over the generator object using next\n",
        "print(next(x)) # In Python 3, __next__()\n",
        "print(next(x))\n",
        "print(next(x))\n",
        "print(next(x))\n",
        "print(next(x))\n",
        "\n",
        "# Iterating over the generator object using for\n",
        "# in loop.\n",
        "print(\"\\nUsing for in loop\")\n",
        "for i in fib(5):\n",
        "\tprint(i)\n"
      ],
      "metadata": {
        "colab": {
          "base_uri": "https://localhost:8080/"
        },
        "id": "qzAQ9ot9L46H",
        "outputId": "57180791-f5e6-491d-82be-422d25198313"
      },
      "execution_count": null,
      "outputs": [
        {
          "output_type": "stream",
          "name": "stdout",
          "text": [
            "0\n",
            "1\n",
            "1\n",
            "2\n",
            "3\n",
            "\n",
            "Using for in loop\n",
            "0\n",
            "1\n",
            "1\n",
            "2\n",
            "3\n"
          ]
        }
      ]
    },
    {
      "cell_type": "code",
      "source": [],
      "metadata": {
        "id": "CZLWBU0sMJUk"
      },
      "execution_count": null,
      "outputs": []
    }
  ]
}