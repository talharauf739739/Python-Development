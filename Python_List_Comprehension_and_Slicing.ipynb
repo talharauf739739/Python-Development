{
  "nbformat": 4,
  "nbformat_minor": 0,
  "metadata": {
    "colab": {
      "provenance": []
    },
    "kernelspec": {
      "name": "python3",
      "display_name": "Python 3"
    },
    "language_info": {
      "name": "python"
    }
  },
  "cells": [
    {
      "cell_type": "markdown",
      "source": [
        "**List comprehension** is an elegant way to define and create a list in python. We can create lists just like mathematical statements and in one line only. The syntax of list comprehension is easier to grasp. \n",
        "\n",
        "A list comprehension generally consists of these parts : \n",
        "\n",
        "Output expression,\n",
        "\n",
        "Input sequence,\n",
        "\n",
        "A variable representing a member of the input sequence and\n",
        "\n",
        "An optional predicate part."
      ],
      "metadata": {
        "id": "YEUppsZUoK9W"
      }
    },
    {
      "cell_type": "markdown",
      "source": [
        "For example :\n",
        "\n",
        "lst  =  [x ** 2  for x in range (1, 11)   if  x % 2 == 1] \n",
        "\n",
        "here, x ** 2 is output expression, \n",
        "      \n",
        "      range (1, 11)  is input sequence, \n",
        "      \n",
        "      x is variable and   \n",
        "      \n",
        "      if x % 2 == 1 is predicate part.\n",
        "\n",
        "Another example :\n",
        "\n",
        "lst=[x**2 if x%2==1 else x*2 for x in range(1,11)]"
      ],
      "metadata": {
        "id": "E3aUYm4Coogl"
      }
    },
    {
      "cell_type": "code",
      "source": [
        "# Python program to demonstrate list comprehension in Python\n",
        "\n",
        "# below list contains square of all odd numbers from\n",
        "# range 1 to 10\n",
        "odd_square = [x ** 2 for x in range(1, 11) if x % 2 == 1]\n",
        "print (odd_square)\n",
        "\n",
        "# for understanding, above generation is same as,\n",
        "odd_square = []\n",
        "for x in range(1, 11):\n",
        "\tif x % 2 == 1:\n",
        "\t\todd_square.append(x**2)\n",
        "print (odd_square)\n",
        "\n",
        "# below list contains power of 2 from 1 to 8\n",
        "power_of_2 = [2 ** x for x in range(1, 9)]\n",
        "print (power_of_2)\n",
        "#range 1 to 10\n",
        "lst=[x**2 if x%2==1 else x*2 for x in range(1,11)]\n",
        "print(lst)\n",
        "\n",
        "#for understanding ,above \"lst\" is same as below \"lst1\"\n",
        "lst1=[]\n",
        "for x in range(1,11):\n",
        "  if x%2==1:\n",
        "    lst1.append(x**2)\n",
        "  else:\n",
        "    lst1.append(x*2)\n",
        "  print(lst1)\n",
        "# below list contains prime and non-prime in range 1 to 50\n",
        "noprimes = [j for i in range(2, 8) for j in range(i*2, 50, i)]\n",
        "primes = [x for x in range(2, 50) if x not in noprimes]\n",
        "print (primes)\n",
        "\n",
        "# list for lowering the characters\n",
        "print ([x.lower() for x in [\"A\",\"B\",\"C\"]] )\n",
        "\n",
        "# list which extracts number\n",
        "string = \"my phone number is : 11122 !!\"\n",
        "\n",
        "print(\"\\nExtracted digits\")\n",
        "numbers = [x for x in string if x.isdigit()]\n",
        "print (numbers)\n",
        "\n",
        "# A list of list for multiplication table\n",
        "a = 10\n",
        "table = [[a, b, a * b] for b in range(1, 11)]\n",
        "\n",
        "print(\"\\nMultiplication Table\")\n",
        "for i in table:\n",
        "\tprint (i)\n"
      ],
      "metadata": {
        "colab": {
          "base_uri": "https://localhost:8080/"
        },
        "id": "Zw0icXXToNUc",
        "outputId": "3e83ef31-faaf-4fdd-9fa5-84a53a8b9045"
      },
      "execution_count": 3,
      "outputs": [
        {
          "output_type": "stream",
          "name": "stdout",
          "text": [
            "[1, 9, 25, 49, 81]\n",
            "[1, 9, 25, 49, 81]\n",
            "[2, 4, 8, 16, 32, 64, 128, 256]\n",
            "[1, 4, 9, 8, 25, 12, 49, 16, 81, 20]\n",
            "[1]\n",
            "[1, 4]\n",
            "[1, 4, 9]\n",
            "[1, 4, 9, 8]\n",
            "[1, 4, 9, 8, 25]\n",
            "[1, 4, 9, 8, 25, 12]\n",
            "[1, 4, 9, 8, 25, 12, 49]\n",
            "[1, 4, 9, 8, 25, 12, 49, 16]\n",
            "[1, 4, 9, 8, 25, 12, 49, 16, 81]\n",
            "[1, 4, 9, 8, 25, 12, 49, 16, 81, 20]\n",
            "[2, 3, 5, 7, 11, 13, 17, 19, 23, 29, 31, 37, 41, 43, 47]\n",
            "['a', 'b', 'c']\n",
            "\n",
            "Extracted digits\n",
            "['1', '1', '1', '2', '2']\n",
            "\n",
            "Multiplication Table\n",
            "[10, 1, 10]\n",
            "[10, 2, 20]\n",
            "[10, 3, 30]\n",
            "[10, 4, 40]\n",
            "[10, 5, 50]\n",
            "[10, 6, 60]\n",
            "[10, 7, 70]\n",
            "[10, 8, 80]\n",
            "[10, 9, 90]\n",
            "[10, 10, 100]\n"
          ]
        }
      ]
    },
    {
      "cell_type": "markdown",
      "source": [
        "After getting the list, we can get a part of it using **python’s slicing operator**which has the following syntax: "
      ],
      "metadata": {
        "id": "rvulCMkgtWPz"
      }
    },
    {
      "cell_type": "markdown",
      "source": [
        "**[start : stop : steps]**\n",
        "\n",
        "which means that slicing will start from index start\n",
        " will go up to stop in step of steps. \n",
        " Default value of start is 0, stop is last index of list\n",
        " and for step it is 1 \n",
        "So [: stop] will slice list from starting till stop index and [start : ] will slice list from start index till end Negative value of steps shows right to left traversal instead of left to right traversal that is why [: : -1] prints list in reverse order."
      ],
      "metadata": {
        "id": "xJ88pSzLt3oa"
      }
    },
    {
      "cell_type": "code",
      "source": [
        "# Let us first create a list to demonstrate slicing\n",
        "# lst contains all number from 1 to 10\n",
        "lst =list(range(1, 11))\n",
        "print (lst)\n",
        "\t\n",
        "# below list has numbers from 2 to 5\n",
        "lst1_5 = lst[1 : 5]\n",
        "print (lst1_5)\n",
        "\t\n",
        "# below list has numbers from 6 to 8\n",
        "lst5_8 = lst[5 : 8]\n",
        "print (lst5_8)\n",
        "\t\n",
        "# below list has numbers from 2 to 10\n",
        "lst1_ = lst[1 : ]\n",
        "print (lst1_)\n",
        "\t\n",
        "# below list has numbers from 1 to 5\n",
        "lst_5 = lst[: 5]\n",
        "print (lst_5)\n",
        "\t\n",
        "# below list has numbers from 2 to 8 in step 2\n",
        "lst1_8_2 = lst[1 : 8 : 2]\n",
        "print (lst1_8_2)\n",
        "\t\n",
        "# below list has numbers from 10 to 1\n",
        "lst_rev = lst[ : : -1]\n",
        "print (lst_rev)\n",
        "\t\n",
        "# below list has numbers from 10 to 6 in step 2\n",
        "lst_rev_9_5_2 = lst[9 : 4 : -2]\n",
        "print (lst_rev_9_5_2)\n"
      ],
      "metadata": {
        "colab": {
          "base_uri": "https://localhost:8080/"
        },
        "id": "riHEUgVssOYk",
        "outputId": "5b522215-1839-432f-e428-9c427d5b1cf7"
      },
      "execution_count": 4,
      "outputs": [
        {
          "output_type": "stream",
          "name": "stdout",
          "text": [
            "[1, 2, 3, 4, 5, 6, 7, 8, 9, 10]\n",
            "[2, 3, 4, 5]\n",
            "[6, 7, 8]\n",
            "[2, 3, 4, 5, 6, 7, 8, 9, 10]\n",
            "[1, 2, 3, 4, 5]\n",
            "[2, 4, 6, 8]\n",
            "[10, 9, 8, 7, 6, 5, 4, 3, 2, 1]\n",
            "[10, 8, 6]\n"
          ]
        }
      ]
    },
    {
      "cell_type": "markdown",
      "source": [
        "We can use the **filter function** to filter a list based on some condition provided as a **lambda expression** as the first argument and list as the second argument, an example of which is shown below :"
      ],
      "metadata": {
        "id": "79LzYQHTu1oJ"
      }
    },
    {
      "cell_type": "code",
      "source": [
        "import functools\n",
        "\n",
        "# filtering odd numbers\n",
        "lst = filter(lambda x : x % 2 == 1, range(1, 20))\n",
        "print (list(lst))\n",
        "\t\n",
        "# filtering odd square which are divisible by 5\n",
        "lst = filter(lambda x : x % 5 == 0,\n",
        "\t[x ** 2 for x in range(1, 11) if x % 2 == 1])\n",
        "print (list(lst))\n",
        "\t\n",
        "# filtering negative numbers\n",
        "lst = filter((lambda x: x < 0), range(-5,5))\n",
        "print (list(lst))\n",
        "\t\n",
        "# implementing max() function, using\n",
        "print (functools.reduce(lambda a,b: a if (a > b) else b, [7, 12, 45, 100, 15]))\n"
      ],
      "metadata": {
        "colab": {
          "base_uri": "https://localhost:8080/"
        },
        "id": "4J-xPHVZu9PF",
        "outputId": "e3b31e91-dd90-438f-996c-b1ced87dfdd6"
      },
      "execution_count": 5,
      "outputs": [
        {
          "output_type": "stream",
          "name": "stdout",
          "text": [
            "[1, 3, 5, 7, 9, 11, 13, 15, 17, 19]\n",
            "[25]\n",
            "[-5, -4, -3, -2, -1]\n",
            "100\n"
          ]
        }
      ]
    },
    {
      "cell_type": "code",
      "source": [],
      "metadata": {
        "id": "heKZl19mvKCJ"
      },
      "execution_count": null,
      "outputs": []
    }
  ]
}