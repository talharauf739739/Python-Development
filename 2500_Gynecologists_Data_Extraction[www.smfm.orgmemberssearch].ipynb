{
  "nbformat": 4,
  "nbformat_minor": 0,
  "metadata": {
    "colab": {
      "provenance": []
    },
    "kernelspec": {
      "name": "python3",
      "display_name": "Python 3"
    },
    "language_info": {
      "name": "python"
    }
  },
  "cells": [
    {
      "cell_type": "markdown",
      "source": [
        "**Install and Import Useful Libraries**"
      ],
      "metadata": {
        "id": "7hJBbKBGXrOM"
      }
    },
    {
      "cell_type": "code",
      "source": [
        "!pip install beautifulsoup4\n",
        "\n",
        "!pip install requests\n",
        "\n",
        "from bs4 import BeautifulSoup\n",
        "import requests\n",
        "import pandas as pd "
      ],
      "metadata": {
        "colab": {
          "base_uri": "https://localhost:8080/"
        },
        "id": "cnLxZ7m4XzGl",
        "outputId": "81d83221-b6ba-414f-b5b2-d5688a38aa68"
      },
      "execution_count": null,
      "outputs": [
        {
          "output_type": "stream",
          "name": "stdout",
          "text": [
            "Looking in indexes: https://pypi.org/simple, https://us-python.pkg.dev/colab-wheels/public/simple/\n",
            "Requirement already satisfied: beautifulsoup4 in /usr/local/lib/python3.8/dist-packages (4.6.3)\n",
            "Looking in indexes: https://pypi.org/simple, https://us-python.pkg.dev/colab-wheels/public/simple/\n",
            "Requirement already satisfied: requests in /usr/local/lib/python3.8/dist-packages (2.23.0)\n",
            "Requirement already satisfied: chardet<4,>=3.0.2 in /usr/local/lib/python3.8/dist-packages (from requests) (3.0.4)\n",
            "Requirement already satisfied: idna<3,>=2.5 in /usr/local/lib/python3.8/dist-packages (from requests) (2.10)\n",
            "Requirement already satisfied: certifi>=2017.4.17 in /usr/local/lib/python3.8/dist-packages (from requests) (2022.12.7)\n",
            "Requirement already satisfied: urllib3!=1.25.0,!=1.25.1,<1.26,>=1.21.1 in /usr/local/lib/python3.8/dist-packages (from requests) (1.24.3)\n"
          ]
        }
      ]
    },
    {
      "cell_type": "markdown",
      "source": [
        "**HTTP Request**\n",
        "**Store Website**"
      ],
      "metadata": {
        "id": "SM0qTaMuYWw1"
      }
    },
    {
      "cell_type": "code",
      "source": [
        "website = 'https://www.smfm.org/members/search'"
      ],
      "metadata": {
        "id": "57K2vmwkYJcq"
      },
      "execution_count": null,
      "outputs": []
    },
    {
      "cell_type": "markdown",
      "source": [
        "**Get Request**"
      ],
      "metadata": {
        "id": "ACNre5A_aW7N"
      }
    },
    {
      "cell_type": "code",
      "source": [
        "response = requests.get(website)"
      ],
      "metadata": {
        "id": "ByN91d7SYqFL"
      },
      "execution_count": null,
      "outputs": []
    },
    {
      "cell_type": "markdown",
      "source": [
        "**Status Code**"
      ],
      "metadata": {
        "id": "cnlKAY0Dafq-"
      }
    },
    {
      "cell_type": "code",
      "source": [
        "response.status_code"
      ],
      "metadata": {
        "colab": {
          "base_uri": "https://localhost:8080/"
        },
        "id": "z2eoZdZfab-j",
        "outputId": "da0d8640-22a2-48cf-a77c-56305dcfca2a"
      },
      "execution_count": null,
      "outputs": [
        {
          "output_type": "execute_result",
          "data": {
            "text/plain": [
              "200"
            ]
          },
          "metadata": {},
          "execution_count": 4
        }
      ]
    },
    {
      "cell_type": "markdown",
      "source": [
        "**Soup Object**"
      ],
      "metadata": {
        "id": "MveYjBb9ar-V"
      }
    },
    {
      "cell_type": "code",
      "source": [
        "soup = BeautifulSoup(response.content,'html.parser')\n",
        "\n",
        "soup\n",
        "\n",
        "#results = soup.find_all('div', {'class' : 'vehicle-card'})\n",
        "#fofahrabdalamarlsinxlundkhao"
      ],
      "metadata": {
        "id": "Ok-PfiOgalq3",
        "colab": {
          "base_uri": "https://localhost:8080/"
        },
        "outputId": "c8e7e7e9-e2e9-462b-ce69-2d6349af8145"
      },
      "execution_count": null,
      "outputs": [
        {
          "output_type": "execute_result",
          "data": {
            "text/plain": [
              "<!DOCTYPE html>\n",
              "\n",
              "<!--[if lt IE 7]> <html class=\"no-js lt-ie9 lt-ie8 lt-ie7\" lang=\"en\"> <![endif]-->\n",
              "<!--[if IE 7]>    <html class=\"no-js lt-ie9 lt-ie8\" lang=\"en\"> <![endif]-->\n",
              "<!--[if IE 8]>    <html class=\"no-js lt-ie9\" lang=\"en\"> <![endif]-->\n",
              "<!--[if gt IE 8]><!-->\n",
              "<html class=\"public member_search no-js\" lang=\"en\"><!--<![endif]-->\n",
              "<head>\n",
              "<meta charset=\"utf-8\"/>\n",
              "<meta content=\"IE=edge,chrome=1\" http-equiv=\"X-UA-Compatible\"/>\n",
              "<title>Find an MFM | SMFM.org - The Society for Maternal-Fetal Medicine</title>\n",
              "<meta content=\"The SMFM is a Society of physicians and scientists who are dedicated to the optimization of pregnancy and perinatal outcomes.\" name=\"description\"/>\n",
              "<meta content=\"maternity, pregnancy, doctors, medical providers\" name=\"keywords\"/>\n",
              "<meta content=\"Brent Kirby - Kurb Media\" name=\"author\">\n",
              "<meta content=\"width=device-width,initial-scale=1\" name=\"viewport\">\n",
              "<link href=\"//ajax.googleapis.com\" rel=\"dns-prefetch\"/>\n",
              "<meta content=\"\" name=\"application-name\">\n",
              "<meta content=\"\" name=\"msapplication-tooltip\">\n",
              "<!-- Facebook open graph ( seff: http://developers.facebook.com/docs/share ) -->\n",
              "<meta content=\"Find an MFM | SMFM.org - The Society for Maternal-Fetal Medicine\" property=\"og:title\"/>\n",
              "<meta content=\"The SMFM is a Society of physicians and scientists who are dedicated to the optimization of pregnancy and perinatal outcomes.\" property=\"og:description\"/>\n",
              "<meta content=\"https://www.smfm.org/assets/fb-52fd525a16a5c9123b259992c37120ef.jpg\" property=\"og:image\"/>\n",
              "<link href=\"//netdna.bootstrapcdn.com/font-awesome/4.7.0/css/font-awesome.css\" rel=\"stylesheet\"/>\n",
              "<link href=\"//fonts.googleapis.com/css?family=Nunito:300,700|Merriweather+Sans:400,300\" rel=\"stylesheet\" type=\"text/css\"/>\n",
              "<meta content=\"authenticity_token\" name=\"csrf-param\"/>\n",
              "<meta content=\"fpjksrUhneEgQhLQJsOGjOTnO1eNL+PcZK9bWp28ZHn+BC4Pgq/lfdyHbUloFYUp/nSgfwKsQPx7mFGNrF8R4g==\" name=\"csrf-token\"/>\n",
              "<meta content=\"index, follow\" name=\"robots\"/>\n",
              "<link href=\"/assets/screen-cc9735ca2ee8c5678e220864a83c0c06.css\" media=\"screen\" rel=\"stylesheet\"/>\n",
              "<script charset=\"utf-8\" src=\"//ajax.googleapis.com/ajax/libs/jquery/1.9.1/jquery.min.js\"></script>\n",
              "<script charset=\"utf-8\" src=\"//cdnjs.cloudflare.com/ajax/libs/respond.js/1.4.2/respond.js\"></script>\n",
              "<!--[if lt IE 9]>\n",
              "        <script src=\"//html5shim.googlecode.com/svn/trunk/html5.js\"></script>\n",
              "        <script src=\"//cdnjs.cloudflare.com/ajax/libs/selectivizr/1.0.2/selectivizr-min.js\" charset=\"utf-8\"></script>\n",
              "    <![endif]-->\n",
              "<script charset=\"utf-8\" type=\"text/javascript\">\n",
              "    //<![CDATA[\n",
              "        var smfm = window.smfm = {\n",
              "            JST: {}\n",
              "        };\n",
              "        jQuery(function(){\n",
              "          $('.no-js').removeClass('no-js');  \n",
              "        });\n",
              "    //]]>\n",
              "    </script>\n",
              "<script type=\"text/javascript\">var switchTo5x=true;</script>\n",
              "<script src=\"https://ws.sharethis.com/button/buttons.js\" type=\"text/javascript\"></script>\n",
              "<!-- <script type=\"text/javascript\">stLight.options({publisher: \"421cc80d-fb84-495d-bf49-42da534d17c3\", doNotHash: true, doNotCopy: true, hashAddressBar: false});</script> -->\n",
              "<!-- Global site tag (gtag.js) - Google Analytics -->\n",
              "<script async=\"\" src=\"https://www.googletagmanager.com/gtag/js?id=G-BM40VT5LFJ\"></script>\n",
              "<script>\n",
              "    window.dataLayer = window.dataLayer || [];\n",
              "    function gtag(){dataLayer.push(arguments);}\n",
              "    gtag('js', new Date());\n",
              "\n",
              "    gtag('config', 'G-BM40VT5LFJ');\n",
              "    </script>\n",
              "<script async=\"\" src=\"https://tag.simpli.fi/sifitag/d9783fd0-11f8-0137-5916-067f653fa718\"></script>\n",
              "<script src=\"//nexus.ensighten.com/choozle/14215/Bootstrap.js\" type=\"text/javascript\"></script>\n",
              "</meta></meta></meta></meta></head>\n",
              "<body class=\"no-js public\" id=\"member_search\">\n",
              "<div id=\"wrapper\">\n",
              "<header id=\"heading\">\n",
              "<noscript>\n",
              "</noscript>\n",
              "<div class=\"container\">\n",
              "<nav class=\"caps\" id=\"main_navigation\">\n",
              "<h3>Navigate</h3>\n",
              "<a href=\"/\" id=\"logo\">Home</a>\n",
              "<div id=\"ad_space_leader\">\n",
              "<a class=\"button blue\" href=\"/join\">Join</a>\n",
              "<a class=\"button blue\" href=\"/account\">Renew</a>\n",
              "</div>\n",
              "<ul class=\"with-alt caps\">\n",
              "<li><a class=\"open\" href=\"/what-is-the-society\">About Us</a><ul>\n",
              "<li><a class=\"open\" href=\"/what-is-the-society/vision\">Mission &amp; Vision</a></li>\n",
              "<li><a class=\"open\" href=\"/board\">Board of Directors</a></li>\n",
              "<li><a class=\"fa-inline fa-lock\" href=\"/staff\">Staff</a></li>\n",
              "<li><a class=\"open\" href=\"/equity\">Diversity &amp; Inclusion</a></li>\n",
              "<li><a class=\"open\" href=\"/press\">Press Room</a></li>\n",
              "<li><a class=\"open\" href=\"https://www.smfm.org/what-is-the-society/involved\">Volunteer Opportunities</a></li>\n",
              "<li class=\"active\"><a class=\"open active\" href=\"/members/search\">Find an MFM Subspecialist</a></li>\n",
              "<li><a class=\"fa-inline fa-lock\" href=\"/committees\">Committees</a></li>\n",
              "<li><a class=\"open\" href=\"/annualreports\">Annual Reports</a></li>\n",
              "</ul></li> <li><a class=\"open\" href=\"/publications\">Clinical Guidance</a><ul>\n",
              "<li><a class=\"open\" href=\"/publications\">Clinical Publications &amp; Guidelines</a></li>\n",
              "<li><a class=\"open\" href=\"/checklists-and-safety-bundles\">Patient Safety and Quality Resources</a></li>\n",
              "<li><a class=\"open\" href=\"https://www.reproformfm.org/\">Reproductive Health</a></li>\n",
              "<li><a class=\"open\" href=\"/covid19\">COVID-19</a></li>\n",
              "<li><a class=\"open\" href=\"/mpox\">Mpox (Monkeypox) Guidance</a></li>\n",
              "<li><a class=\"open\" href=\"https://www.smfm.org/informatics\">Clinical Informatics</a></li>\n",
              "<li><a class=\"open\" href=\"/journals\">Publish Your Research</a></li>\n",
              "</ul></li> <li><a class=\"open\" href=\"/fellowship\">MFM Fellowship</a></li>\n",
              "<li><a class=\"open\" href=\"/advocacy\">Advocacy</a><ul>\n",
              "<li><a class=\"open\" href=\"/repro\">Support Abortion Access</a></li>\n",
              "<li><a class=\"open\" href=\"http://safemeds4moms.org/\">Coalition to Advance Maternal Therapeutics</a></li>\n",
              "<li><a class=\"open\" href=\"/advocacy/govrelupdate\">Advocacy Activites &amp; Updates </a></li>\n",
              "<li><a class=\"open\" href=\"/advocacy/positions\">Position Statements &amp;  Issue Briefs </a></li>\n",
              "<li><a class=\"open\" href=\"/advocacy/liaison\">SMFM State Liaison Network</a></li>\n",
              "<li><a class=\"open\" href=\"/action\">Take Action</a></li>\n",
              "<li><a class=\"open\" href=\"/scorecard/2020\">Maternal Mortality Scorecard</a></li>\n",
              "</ul></li> <li><a class=\"open\" href=\"https://www.highriskpregnancyinfo.org/\">For Patients &amp; Families</a></li>\n",
              "<li><a class=\"open\" href=\"/education\">Education &amp; Events</a><ul>\n",
              "<li><a class=\"open\" href=\"https://www.eventscribe.net/2023/smfm2023/\">2023 Annual Meeting</a></li>\n",
              "<li><a class=\"open\" href=\"/events\">In-Person Events</a></li>\n",
              "<li><a class=\"open\" href=\"/elearning\">e-Learning</a></li>\n",
              "<li><a class=\"open\" href=\"/covid19\">COVID-19</a></li>\n",
              "<li><a class=\"open\" href=\"products\">SMFM Bookstore</a></li>\n",
              "</ul></li> <li><a class=\"open\" href=\"/practiceprofessionals\">Practice Management</a><ul>\n",
              "<li><a class=\"fa-inline fa-lock\" href=\"/coding\">Online Coding Resources</a></li>\n",
              "<li><a class=\"open\" href=\"/consulting\">Consulting Services</a></li>\n",
              "<li><a class=\"open\" href=\"/telehealth\">Telehealth</a></li>\n",
              "<li><a class=\"fa-inline fa-lock\" href=\"https://education.smfm.org/pmwebinars\">Webinars</a></li>\n",
              "<li><a class=\"open\" href=\"https://www.smfm.org/product/51-contemporary-guide-to-practice-management\">Contemporary Guide to Practice Management</a></li>\n",
              "<li><a class=\"open\" href=\"/products\">SMFM Bookstore</a></li>\n",
              "</ul></li> <li><a class=\"open\" href=\"/staff\">Stay Connected</a><ul>\n",
              "<li><a class=\"open\" href=\"/join\">Become an SMFM Member</a></li>\n",
              "<li><a class=\"open\" href=\"/press\">Press Room</a></li>\n",
              "<li><a class=\"open\" href=\"/members/featured\">Member Spotlight</a></li>\n",
              "<li><a class=\"open\" href=\"/partner\">Exhibit &amp; Sponsor</a></li>\n",
              "<li><a class=\"open\" href=\"/onlinecommunities\">Online Communities</a></li>\n",
              "<li><a class=\"fa-inline fa-lock\" href=\"/specialdelivery\">Special Delivery e-Newsletter</a></li>\n",
              "</ul></li>\n",
              "<li class=\"alt\"><a href=\"/press\" rel=\"external\">Newsroom</a></li>\n",
              "<li class=\"alt\"><a href=\"/careers\">Career Opportunities</a></li>\n",
              "<li class=\"alt\"><a href=\"/contact\">Contact</a></li>\n",
              "</ul></nav>\n",
              "</div>\n",
              "<div id=\"top\">\n",
              "<div class=\"container\">\n",
              "<ul class=\"links\">\n",
              "<li><a class=\"plain\" href=\"/donate\">Foundation for SMFM</a></li>\n",
              "<li><a class=\"plain\" href=\"/careers\">Career Center</a></li>\n",
              "<li><a class=\"plain\" href=\"/contact\">Contact Us</a></li>\n",
              "</ul>\n",
              "<div class=\"social\">\n",
              "<a class=\"icon-24 fa fa-facebook\" href=\"http://www.facebook.com/pages/Society-for-Maternal-Fetal-Medicine/132460289388\" rel=\"external\">Facebook</a>\n",
              "<a class=\"icon-24 fa fa-twitter\" href=\"https://twitter.com/mysmfm\" rel=\"external\">Twitter</a>\n",
              "<a class=\"icon-24 icon-n\" href=\"https://communities.smfm.org/\" rel=\"external\">C</a>\n",
              "</div>\n",
              "<div class=\"session\">\n",
              "<a href=\"/users/sign_in\">Login</a> | \n",
              "                        <a href=\"/join\">Join</a>\n",
              "</div>\n",
              "<form accept-charset=\"UTF-8\" action=\"/search\" class=\"simple_form kw\" id=\"top_search\" method=\"get\" novalidate=\"novalidate\"><input name=\"utf8\" type=\"hidden\" value=\"✓\"/>\n",
              "<div class=\"inner\">\n",
              "<input id=\"kw_q\" name=\"kw[q]\" placeholder=\"Search by keyword\" type=\"text\"/> <span class=\"clipped\">Search</span>\n",
              "<button class=\"icon-24 fa-inline fa-search\" type=\"submit\">Search</button>\n",
              "</div>\n",
              "</form> </div>\n",
              "</div>\n",
              "</header>\n",
              "<div id=\"main\" role=\"main\">\n",
              "<div class=\"container member-search\" id=\"content\">\n",
              "<div class=\"breadcrumb hf light\" id=\"breadcrumb\"><a href=\"/\">Home</a> » Find an MFM Specialist</div>\n",
              "<h1 class=\"ribbon full\">Find a MFM Specialist</h1>\n",
              "<div class=\"row\">\n",
              "<div class=\"two-thirds\" id=\"member_list\">\n",
              "<article class=\"member member-result row\" data-member-id=\"1220\" id=\"member_listing_1220\">\n",
              "<div class=\"half\">\n",
              "<h3 class=\"title\">Kjersti Aagaard</h3>\n",
              "<h5 class=\"mtype plain\">Regular (MFM)</h5>\n",
              "        Basic Science, Genetics, Prematurity\n",
              "        <span class=\"block fa-inline fa-phone\">713-798-8360</span>\n",
              "<a class=\"fa-inline fa-envelope block plain\" href=\"mailto:%61%61%67%61%61%72%64%74@%62%63%6d.%65%64%75\">aagaardt@bcm.edu</a>\n",
              "</div>\n",
              "<aside class=\"half last\">\n",
              "<h3 class=\"clipped\">Contact</h3>\n",
              "<span class=\"block\">Texas Children's and Baylor College of Medicine</span>\n",
              "        \n",
              "        One Baylor Plaza <br/>Jones Room 314 C<br/>Houston, Texas 77030\n",
              "    </aside>\n",
              "</article>\n",
              "<article class=\"member member-result row\" data-member-id=\"796\" id=\"member_listing_796\">\n",
              "<div class=\"half\">\n",
              "<h3 class=\"title\">Iffath Abbasi   Hoskins</h3>\n",
              "<h5 class=\"mtype plain\">Regular (MFM)</h5>\n",
              "<a class=\"fa-inline fa-envelope block plain\" href=\"mailto:%49%66%66%61%74%68.%48%6f%73%6b%69%6e%73@%6e%79%75%6d%63.%6f%72%67\">Iffath.Hoskins@nyumc.org</a>\n",
              "</div>\n",
              "<aside class=\"half last\">\n",
              "<h3 class=\"clipped\">Contact</h3>\n",
              "<span class=\"block\">New York University Medical Center</span>\n",
              "        \n",
              "        515 East 72nd Street <br/>Apt 17 H<br/>New York, New York 10021\n",
              "    </aside>\n",
              "</article>\n",
              "<article class=\"member member-result row\" data-member-id=\"1025\" id=\"member_listing_1025\">\n",
              "<div class=\"half\">\n",
              "<h3 class=\"title\">Mina Abbassi Ghanavati</h3>\n",
              "<h5 class=\"mtype plain\">Regular (MFM)</h5>\n",
              "<span class=\"block fa-inline fa-phone\">(972) 219-2253 </span>\n",
              "</div>\n",
              "<aside class=\"half last\">\n",
              "<h3 class=\"clipped\">Contact</h3>\n",
              "<span class=\"block\">Medical Center of Lewisville</span>\n",
              "        \n",
              "        500 W Main St <br/>Ste 320<br/>Lewisville, Texas 75057 3640\n",
              "    </aside>\n",
              "</article>\n",
              "<article class=\"member member-result row\" data-member-id=\"1219\" id=\"member_listing_1219\">\n",
              "<div class=\"half\">\n",
              "<h3 class=\"title\">Jodi Abbott</h3>\n",
              "<h5 class=\"mtype plain\">Regular (MFM)</h5>\n",
              "        Prematurity, Hypertension, Government Relations\n",
              "        \n",
              "        \n",
              "        <br/>\n",
              "<a class=\"button yellow small mt\" href=\"file:///C:/Users/jodabbot/Downloads/CertStatusLetter%20(3).pdf\" target=\"_blank\">View Certificate</a>\n",
              "</div>\n",
              "</article>\n",
              "<article class=\"member member-result row\" data-member-id=\"2872\" id=\"member_listing_2872\">\n",
              "<div class=\"half\">\n",
              "<h3 class=\"title\">Sonya Abdel-Razeq</h3>\n",
              "<h5 class=\"mtype plain\">Regular (MFM)</h5>\n",
              "<a class=\"fa-inline fa-envelope block plain\" href=\"mailto:%73%6f%6e%79%61.%61%62%64%65%6c-%72%61%7a%65%71@%79%61%6c%65.%65%64%75\">sonya.abdel-razeq@yale.edu</a>\n",
              "</div>\n",
              "<aside class=\"half last\">\n",
              "<h3 class=\"clipped\">Contact</h3>\n",
              "<span class=\"block\">Yale University</span>\n",
              "        \n",
              "        333 Cedar Street <br/>Po Box 208063<br/>New Havem, Connecticut 06520\n",
              "    </aside>\n",
              "</article>\n",
              "<article class=\"member member-result row\" data-member-id=\"3772\" id=\"member_listing_3772\">\n",
              "<div class=\"half\">\n",
              "<h3 class=\"title\">David Abel</h3>\n",
              "<h5 class=\"mtype plain\">Regular (MFM)</h5>\n",
              "<span class=\"block fa-inline fa-phone\">503-494-2101</span>\n",
              "<a class=\"fa-inline fa-envelope block plain\" href=\"mailto:%61%62%65%6c%64@%6f%68%73%75.%65%64%75\">abeld@ohsu.edu</a>\n",
              "</div>\n",
              "<aside class=\"half last\">\n",
              "<h3 class=\"clipped\">Contact</h3>\n",
              "<span class=\"block\">Oregon Health &amp; Science University</span>\n",
              "<a class=\"block plain\" href=\"https://www.ohsu.edu/womens-health/perinatology\" rel=\"external\">https://www.ohsu.edu/womens-health/perinatology</a>\n",
              "        3181 Sw Sam Jackson Park Rd <br/>L466<br/>Portland, Oregon 97239 3079\n",
              "    </aside>\n",
              "</article>\n",
              "<article class=\"member member-result row\" data-member-id=\"5027\" id=\"member_listing_5027\">\n",
              "<div class=\"half\">\n",
              "<h3 class=\"title\">Mary Abernathy</h3>\n",
              "<h5 class=\"mtype plain\">Regular (MFM)</h5>\n",
              "        Maternal Endocrinology/Physiology, Clinical Obstetrics, Prematurity\n",
              "        \n",
              "        <span class=\"block fa-inline fa-print\">3177300598</span>\n",
              "<a class=\"fa-inline fa-envelope block plain\" href=\"mailto:%6d%61%62%65%72%6e%61%74@%6c%69%67%68%74%62%6f%75%6e%64.%63%6f%6d\">mabernat@lightbound.com</a>\n",
              "</div>\n",
              "<aside class=\"half last\">\n",
              "<h3 class=\"clipped\">Contact</h3>\n",
              "<span class=\"block\">Union Hospital</span>\n",
              "        \n",
              "        1606 N 7 Th St <br/>Dept Obgyn<br/>Terre Haute, Indiana 47804 2780\n",
              "    </aside>\n",
              "</article>\n",
              "<article class=\"member member-result row\" data-member-id=\"1158\" id=\"member_listing_1158\">\n",
              "<div class=\"half\">\n",
              "<h3 class=\"title\">Robert Abrams</h3>\n",
              "<h5 class=\"mtype plain\">Regular (MFM)</h5>\n",
              "        Hypertension, Ultrasound/Imaging\n",
              "        \n",
              "        \n",
              "    </div>\n",
              "<aside class=\"half last\">\n",
              "<h3 class=\"clipped\">Contact</h3>\n",
              "<span class=\"block\">Southern Illinois University School of Medicine</span>\n",
              "        \n",
              "        PO BOX 19659 <br/>SPRINGFIELD, Illinois 62794-9659\n",
              "    </aside>\n",
              "</article>\n",
              "<article class=\"member member-result row\" data-member-id=\"9084\" id=\"member_listing_9084\">\n",
              "<div class=\"half\">\n",
              "<h3 class=\"title\">Courtney Abshier Ware</h3>\n",
              "<h5 class=\"mtype plain\">Regular (MFM)</h5>\n",
              "</div>\n",
              "</article>\n",
              "<article class=\"member member-result row\" data-member-id=\"1704\" id=\"member_listing_1704\">\n",
              "<div class=\"half\">\n",
              "<h3 class=\"title\">Alfred Abuhamad</h3>\n",
              "<h5 class=\"mtype plain\">Regular (MFM)</h5>\n",
              "<span class=\"block fa-inline fa-phone\">757-446-7900</span>\n",
              "</div>\n",
              "<aside class=\"half last\">\n",
              "<h3 class=\"clipped\">Contact</h3>\n",
              "<span class=\"block\">Eastern Virginia Medical School</span>\n",
              "<a class=\"block plain\" href=\"http://www.evms.edu\" rel=\"external\">http://www.evms.edu</a>\n",
              "        825 Fairfax Avenue <br/>310<br/>Norfolk, Virginia 23507\n",
              "    </aside>\n",
              "</article>\n",
              "<hr noshade=\"\"/>\n",
              "<div class=\"pagination-box\"><p class=\"pagination-detail\">Displaying members <b>1 - 10</b> of <b>2175</b> in total</p> <ul class=\"pagination pagination-sm\">\n",
              "<li class=\"page active\">\n",
              "<a href=\"javascript:void(0)\">1</a>\n",
              "</li>\n",
              "<li class=\"page\">\n",
              "<a href=\"/members/search?page=2\" rel=\"next\">2</a>\n",
              "</li>\n",
              "<li class=\"page\">\n",
              "<a href=\"/members/search?page=3\">3</a>\n",
              "</li>\n",
              "<li class=\"page gap disabled\"><a href=\"javascript:void(0)\">…</a></li>\n",
              "<li class=\"next\">\n",
              "<a href=\"/members/search?page=2\" rel=\"next\">Next ›</a>\n",
              "</li>\n",
              "<li class=\"last\">\n",
              "<a href=\"/members/search?page=218\">Last »</a>\n",
              "</li>\n",
              "</ul>\n",
              "</div>\n",
              "</div>\n",
              "<div class=\"third last\">\n",
              "<div class=\"mb\">\n",
              "<script type=\"text/javascript\">if (!window.AdButler){(function(){var s = document.createElement(\"script\"); s.async = true; s.type = \"text/javascript\";s.src = 'https://servedbyadbutler.com/app.js';var n = document.getElementsByTagName(\"script\")[0]; n.parentNode.insertBefore(s, n);}());}</script>\n",
              "<script type=\"text/javascript\">\n",
              "    var AdButler = AdButler || {}; AdButler.ads = AdButler.ads || [];\n",
              "    var abkw = window.abkw || '';\n",
              "    var plc280766 = window.plc280766 || 0;\n",
              "    document.write('<'+'div id=\"placement_280766_'+plc280766+'\"></'+'div>');\n",
              "    AdButler.ads.push({handler: function(opt){ AdButler.register(165731, 280766, [360,220], 'placement_280766_'+opt.place, opt); }, opt: { place: plc280766++, keywords: abkw, domain: 'servedbyadbutler.com', click:'CLICK_MACRO_PLACEHOLDER' }});\n",
              "    </script>\n",
              "</div>\n",
              "<form accept-charset=\"UTF-8\" action=\"/members/search\" class=\"simple_form blue-bg hatch-white white inset half\" id=\"new_q\" method=\"get\" novalidate=\"novalidate\"><input name=\"utf8\" type=\"hidden\" value=\"✓\"/>\n",
              "<h3>Find an MFM Specialist</h3>\n",
              "<ul class=\"fields\">\n",
              "<li class=\"field string optional q_last_name_start\"><label class=\"string optional control-label clipped\" for=\"q_last_name_start\">Last name start</label><input class=\"string optional form-control\" id=\"q_last_name_start\" name=\"q[last_name_start]\" placeholder=\"Last Name\" type=\"text\"/></li>\n",
              "<li class=\"field string optional q_searchable_addresses_city_cont\"><label class=\"string optional control-label clipped\" for=\"q_searchable_addresses_city_cont\">Searchable addresses city cont</label><input class=\"string optional form-control\" id=\"q_searchable_addresses_city_cont\" name=\"q[searchable_addresses_city_cont]\" placeholder=\"City\" type=\"text\"/></li>\n",
              "<li class=\"field select optional q_searchable_addresses_state_eq\"><label class=\"select optional control-label clipped\" for=\"q_searchable_addresses_state_eq\">Searchable addresses state eq</label><select class=\"select optional form-control\" id=\"q_searchable_addresses_state_eq\" name=\"q[searchable_addresses_state_eq]\" placeholder=\"State\"><option value=\"\">State</option>\n",
              "<option value=\"\">State</option>\n",
              "<option value=\"Alaska\">Alaska</option>\n",
              "<option value=\"Alabama\">Alabama</option>\n",
              "<option value=\"Arkansas\">Arkansas</option>\n",
              "<option value=\"American Samoa\">American Samoa</option>\n",
              "<option value=\"Arizona\">Arizona</option>\n",
              "<option value=\"California\">California</option>\n",
              "<option value=\"Colorado\">Colorado</option>\n",
              "<option value=\"Connecticut\">Connecticut</option>\n",
              "<option value=\"District of Columbia\">District of Columbia</option>\n",
              "<option value=\"Delaware\">Delaware</option>\n",
              "<option value=\"Florida\">Florida</option>\n",
              "<option value=\"Georgia\">Georgia</option>\n",
              "<option value=\"Guam\">Guam</option>\n",
              "<option value=\"Hawaii\">Hawaii</option>\n",
              "<option value=\"Iowa\">Iowa</option>\n",
              "<option value=\"Idaho\">Idaho</option>\n",
              "<option value=\"Illinois\">Illinois</option>\n",
              "<option value=\"Indiana\">Indiana</option>\n",
              "<option value=\"Kansas\">Kansas</option>\n",
              "<option value=\"Kentucky\">Kentucky</option>\n",
              "<option value=\"Louisiana\">Louisiana</option>\n",
              "<option value=\"Massachusetts\">Massachusetts</option>\n",
              "<option value=\"Maryland\">Maryland</option>\n",
              "<option value=\"Maine\">Maine</option>\n",
              "<option value=\"Michigan\">Michigan</option>\n",
              "<option value=\"Minnesota\">Minnesota</option>\n",
              "<option value=\"Missouri\">Missouri</option>\n",
              "<option value=\"Northern Mariana Islands\">Northern Mariana Islands</option>\n",
              "<option value=\"Mississippi\">Mississippi</option>\n",
              "<option value=\"Montana\">Montana</option>\n",
              "<option value=\"North Carolina\">North Carolina</option>\n",
              "<option value=\"North Dakota\">North Dakota</option>\n",
              "<option value=\"Nebraska\">Nebraska</option>\n",
              "<option value=\"New Hampshire\">New Hampshire</option>\n",
              "<option value=\"New Jersey\">New Jersey</option>\n",
              "<option value=\"New Mexico\">New Mexico</option>\n",
              "<option value=\"Nevada\">Nevada</option>\n",
              "<option value=\"New York\">New York</option>\n",
              "<option value=\"Ohio\">Ohio</option>\n",
              "<option value=\"Oklahoma\">Oklahoma</option>\n",
              "<option value=\"Oregon\">Oregon</option>\n",
              "<option value=\"Pennsylvania\">Pennsylvania</option>\n",
              "<option value=\"Puerto Rico\">Puerto Rico</option>\n",
              "<option value=\"Rhode Island\">Rhode Island</option>\n",
              "<option value=\"South Carolina\">South Carolina</option>\n",
              "<option value=\"South Dakota\">South Dakota</option>\n",
              "<option value=\"Tennessee\">Tennessee</option>\n",
              "<option value=\"Texas\">Texas</option>\n",
              "<option value=\"United States Minor Outlying Islands\">United States Minor Outlying Islands</option>\n",
              "<option value=\"Utah\">Utah</option>\n",
              "<option value=\"Virginia\">Virginia</option>\n",
              "<option value=\"Virgin Islands\">Virgin Islands</option>\n",
              "<option value=\"Vermont\">Vermont</option>\n",
              "<option value=\"Washington\">Washington</option>\n",
              "<option value=\"Wisconsin\">Wisconsin</option>\n",
              "<option value=\"West Virginia\">West Virginia</option>\n",
              "<option value=\"Wyoming\">Wyoming</option>\n",
              "<option value=\"Armed Forces Americas (except Canada)\">Armed Forces Americas (except Canada)</option>\n",
              "<option value=\"Armed Forces Africa, Canada, Europe, Middle East\">Armed Forces Africa, Canada, Europe, Middle East</option>\n",
              "<option value=\"Armed Forces Pacific\">Armed Forces Pacific</option></select></li>\n",
              "<li class=\"geo-search\">\n",
              "<div>— or —</div>\n",
              "<input class=\"ib\" id=\"miles\" name=\"miles\" style=\"width:60px;\" type=\"text\"/>\n",
              "<span class=\"ib\">miles from</span>\n",
              "<input class=\"ib\" id=\"zip_code\" name=\"zip_code\" placeholder=\"zip code\" style=\"width:100px\" type=\"text\"/>\n",
              "</li>\n",
              "<li class=\"actions\">\n",
              "<button class=\"button yellow fa-inline fa-search caps bold\" type=\"submit\">Search</button>\n",
              "</li>\n",
              "</ul>\n",
              "</form>\n",
              "</div>\n",
              "</div>\n",
              "</div>\n",
              "</div>\n",
              "<footer class=\"grey-bg hatch\" id=\"footer\">\n",
              "<div class=\"container row\">\n",
              "<div class=\"third\">\n",
              "<address class=\"mb\" data-transit=\"basic\">\n",
              "                        409 12th Street, SW. Washington, DC 20024<br/>\n",
              "                        Email: <a href=\"mailto:%73%6d%66%6d@%73%6d%66%6d.%6f%72%67\">smfm@smfm.org</a>\n",
              "</address>\n",
              "<p class=\"small copyright\">© 2000-2023, Society for Maternal-Fetal Medicine. All rights reserved <br/>\n",
              "                    The Pregnancy Meeting is a Trademark of the <br/>Society for Maternal-Fetal Medicine.<br/><br/>\n",
              "                    Use of this Web site constitutes acceptance of <a href=\"/privacy\">Terms of Use</a>\n",
              "</p>\n",
              "</div>\n",
              "<div class=\"third lined hf light\">\n",
              "<ul class=\"two-col cols light\">\n",
              "<li><a href=\"/contact\">Contact Us</a></li>\n",
              "<li><a href=\"/account\">My Account</a></li>\n",
              "<li><a href=\"/about-membership\">Join</a></li>\n",
              "<li><a href=\"https://s3.amazonaws.com/cdn.smfm.org/assets/SMFM_Code_of_Conduct.pdf\">SMFM Code of Conduct</a></li>\n",
              "<!-- <li><a href=\"/products\">Shop</a></li>\n",
              "                        <li><a href=\"/careers\">Career Opportunities</a></li>\n",
              "                        <li><a href=\"/home/disclaimer\">Disclaimer</a></li>\n",
              "                        <li><a href=\"/home/privacypolicy\">Privacy Policy</a></li>\n",
              "                        <li><a href=\"/home/terms-of-use\">Terms of Use</a></li> -->\n",
              "<li class=\"full pt-2x\">\n",
              "<h4 class=\"pt-2x\">Stay Connected</h4>\n",
              "<a class=\"icon-32 fa fa-facebook\" href=\"http://www.facebook.com/pages/Society-for-Maternal-Fetal-Medicine/132460289388\" rel=\"external\">Facebook</a>\n",
              "<a class=\"icon-32 fa fa-twitter\" href=\"https://twitter.com/mysmfm\" rel=\"external\">Twitter</a>\n",
              "<a class=\"icon-32 fa fa-instagram\" href=\"https://www.instagram.com/mysmfm/\" rel=\"external\">Instagram</a>\n",
              "<a class=\"icon-32 fa fa-linkedin\" href=\"https://www.linkedin.com/company/society-for-maternal-fetal-medicine/\" rel=\"external\">LinkedIn</a>\n",
              "</li>\n",
              "</ul>\n",
              "</div>\n",
              "<div class=\"third last\">\n",
              "<ul class=\"block\">\n",
              "<li class=\"mb-half\"><a href=\"https://foundationforsmfm.org/\" rel=\"external\">Foundation for SMFM</a></li>\n",
              "<li class=\"mb-half\"><a href=\"http://www.ajog.org\" rel=\"external\">American Journal of Obstetrics &amp; Gynecology</a></li>\n",
              "<li class=\"mb-half\"><a href=\"http://www.perinatalquality.org/\" rel=\"external\">Perinatal Quality Foundation</a></li>\n",
              "</ul>\n",
              "<a href=\"https://www.betterhelp.com/advice/grief/\" rel=\"external\"><img alt=\"Betterhelp logo\" src=\"/assets/misc/betterhelp-logo-e3a5d6b370b467e6fc33bf1d74bafa1f.png\" width=\"180\"/></a>\n",
              "</div>\n",
              "</div>\n",
              "</footer>\n",
              "</div>\n",
              "<script charset=\"utf-8\" src=\"https://s3.amazonaws.com/cdn.smfm.org/assets/media/media.js\" type=\"text/javascript\"></script>\n",
              "<script charset=\"utf-8\" src=\"//cdnjs.cloudflare.com/ajax/libs/moment.js/2.10.2/moment.min.js\" type=\"text/javascript\"></script>\n",
              "<script src=\"/assets/application-6db413c85c45f626e80791d7256d2156.js\"></script>\n",
              "<script charset=\"utf-8\" src=\"//cdnjs.cloudflare.com/ajax/libs/blueimp-file-upload/9.5.2/jquery.fileupload.min.js\" type=\"text/javascript\"></script>\n",
              "</body>\n",
              "</html>"
            ]
          },
          "metadata": {},
          "execution_count": 5
        }
      ]
    },
    {
      "cell_type": "markdown",
      "source": [
        "**Results**"
      ],
      "metadata": {
        "id": "mih31raUlQf5"
      }
    },
    {
      "cell_type": "code",
      "source": [
        "results = soup.find_all('article', {'class' : 'member member-result row'})"
      ],
      "metadata": {
        "id": "2PumTJ9Ga0NG"
      },
      "execution_count": null,
      "outputs": []
    },
    {
      "cell_type": "code",
      "source": [
        "len(results)"
      ],
      "metadata": {
        "colab": {
          "base_uri": "https://localhost:8080/"
        },
        "id": "nNOUWpdBjmSl",
        "outputId": "dafb55f1-79f2-44f8-cfc1-cf38d22c7edb"
      },
      "execution_count": null,
      "outputs": [
        {
          "output_type": "execute_result",
          "data": {
            "text/plain": [
              "10"
            ]
          },
          "metadata": {},
          "execution_count": 7
        }
      ]
    },
    {
      "cell_type": "markdown",
      "source": [
        "**Target necessary data**"
      ],
      "metadata": {
        "id": "bqn5ZHzvlYEV"
      }
    },
    {
      "cell_type": "code",
      "source": [
        "# Name\n",
        "# Mileage\n",
        "# Dealer Name\n",
        "# Rating\n",
        "# Rating Count\n",
        "# Price"
      ],
      "metadata": {
        "id": "9UECjb5Jjn12"
      },
      "execution_count": null,
      "outputs": []
    },
    {
      "cell_type": "markdown",
      "source": [
        "**Name**"
      ],
      "metadata": {
        "id": "YIawX5falx7Z"
      }
    },
    {
      "cell_type": "code",
      "source": [
        "results[0].find('h3').get_text()"
      ],
      "metadata": {
        "colab": {
          "base_uri": "https://localhost:8080/",
          "height": 35
        },
        "id": "d5r_czCal2Ml",
        "outputId": "ef767d82-d826-468b-8304-ffc4f8a7ec47"
      },
      "execution_count": null,
      "outputs": [
        {
          "output_type": "execute_result",
          "data": {
            "text/plain": [
              "'Kjersti Aagaard'"
            ],
            "application/vnd.google.colaboratory.intrinsic+json": {
              "type": "string"
            }
          },
          "metadata": {},
          "execution_count": 9
        }
      ]
    },
    {
      "cell_type": "markdown",
      "source": [
        "**Phone**"
      ],
      "metadata": {
        "id": "U9IB8i15mXIn"
      }
    },
    {
      "cell_type": "code",
      "source": [
        "results[0].find('span', {'class':'block fa-inline fa-phone'}).get_text()"
      ],
      "metadata": {
        "colab": {
          "base_uri": "https://localhost:8080/",
          "height": 35
        },
        "id": "ZDiqeJklmZmy",
        "outputId": "749a21e1-563c-4a99-f1df-cf42e0f8cbf5"
      },
      "execution_count": null,
      "outputs": [
        {
          "output_type": "execute_result",
          "data": {
            "text/plain": [
              "'713-798-8360'"
            ],
            "application/vnd.google.colaboratory.intrinsic+json": {
              "type": "string"
            }
          },
          "metadata": {},
          "execution_count": 10
        }
      ]
    },
    {
      "cell_type": "markdown",
      "source": [
        "**Email**"
      ],
      "metadata": {
        "id": "SkuerTJNmiAG"
      }
    },
    {
      "cell_type": "code",
      "source": [
        "results[0].find('a', {'class':'fa-inline fa-envelope block plain'}).get_text()"
      ],
      "metadata": {
        "colab": {
          "base_uri": "https://localhost:8080/",
          "height": 35
        },
        "id": "e5xVuVWel7QB",
        "outputId": "ace4fb69-f321-4184-c1f1-5ce277cd1cfb"
      },
      "execution_count": null,
      "outputs": [
        {
          "output_type": "execute_result",
          "data": {
            "text/plain": [
              "'aagaardt@bcm.edu'"
            ],
            "application/vnd.google.colaboratory.intrinsic+json": {
              "type": "string"
            }
          },
          "metadata": {},
          "execution_count": 11
        }
      ]
    },
    {
      "cell_type": "code",
      "source": [
        "name = []\n",
        "phone = []\n",
        "email = []\n",
        "\n",
        "\n",
        "for result in results:\n",
        "    \n",
        "    # name\n",
        "    try:\n",
        "        name.append(result.find('h3').get_text()) \n",
        "    except:\n",
        "        name.append('Doctor')\n",
        "    \n",
        "    # phone\n",
        "    try:\n",
        "        phone.append(result.find('span', {'class':'block fa-inline fa-phone'}).get_text())\n",
        "    except:\n",
        "        phone.append('n/a')\n",
        "    \n",
        "    # email\n",
        "    try:\n",
        "        email.append(result.find('a', {'class':'fa-inline fa-envelope block plain'}).get_text())\n",
        "    except:\n",
        "        email.append('n/a')\n",
        "        \n",
        "    "
      ],
      "metadata": {
        "id": "xezlVCN0o5LM"
      },
      "execution_count": null,
      "outputs": []
    },
    {
      "cell_type": "markdown",
      "source": [
        "**Create Pandas Dataframe**"
      ],
      "metadata": {
        "id": "4gXcGl3RqBWt"
      }
    },
    {
      "cell_type": "code",
      "source": [
        "# dictionary\n",
        "Hey_Doctors = pd.DataFrame({'Name': name, 'Phone':phone, 'Email':email})"
      ],
      "metadata": {
        "id": "ejdjKDKWp9rI"
      },
      "execution_count": null,
      "outputs": []
    },
    {
      "cell_type": "code",
      "source": [
        "Hey_Doctors"
      ],
      "metadata": {
        "colab": {
          "base_uri": "https://localhost:8080/",
          "height": 363
        },
        "id": "qQIupwLkqGe_",
        "outputId": "685d2c19-f333-4d22-a583-f2b60a10c613"
      },
      "execution_count": null,
      "outputs": [
        {
          "output_type": "execute_result",
          "data": {
            "text/plain": [
              "                      Name            Phone                       Email\n",
              "0          Kjersti Aagaard     713-798-8360            aagaardt@bcm.edu\n",
              "1  Iffath Abbasi   Hoskins              n/a    Iffath.Hoskins@nyumc.org\n",
              "2   Mina Abbassi Ghanavati  (972) 219-2253                          n/a\n",
              "3              Jodi Abbott              n/a                         n/a\n",
              "4        Sonya Abdel-Razeq              n/a  sonya.abdel-razeq@yale.edu\n",
              "5               David Abel     503-494-2101              abeld@ohsu.edu\n",
              "6           Mary Abernathy              n/a     mabernat@lightbound.com\n",
              "7            Robert Abrams              n/a                         n/a\n",
              "8    Courtney Abshier Ware              n/a                         n/a\n",
              "9          Alfred Abuhamad     757-446-7900                         n/a"
            ],
            "text/html": [
              "\n",
              "  <div id=\"df-fee20ac5-1ab4-4fd6-be9e-b52e205141a6\">\n",
              "    <div class=\"colab-df-container\">\n",
              "      <div>\n",
              "<style scoped>\n",
              "    .dataframe tbody tr th:only-of-type {\n",
              "        vertical-align: middle;\n",
              "    }\n",
              "\n",
              "    .dataframe tbody tr th {\n",
              "        vertical-align: top;\n",
              "    }\n",
              "\n",
              "    .dataframe thead th {\n",
              "        text-align: right;\n",
              "    }\n",
              "</style>\n",
              "<table border=\"1\" class=\"dataframe\">\n",
              "  <thead>\n",
              "    <tr style=\"text-align: right;\">\n",
              "      <th></th>\n",
              "      <th>Name</th>\n",
              "      <th>Phone</th>\n",
              "      <th>Email</th>\n",
              "    </tr>\n",
              "  </thead>\n",
              "  <tbody>\n",
              "    <tr>\n",
              "      <th>0</th>\n",
              "      <td>Kjersti Aagaard</td>\n",
              "      <td>713-798-8360</td>\n",
              "      <td>aagaardt@bcm.edu</td>\n",
              "    </tr>\n",
              "    <tr>\n",
              "      <th>1</th>\n",
              "      <td>Iffath Abbasi   Hoskins</td>\n",
              "      <td>n/a</td>\n",
              "      <td>Iffath.Hoskins@nyumc.org</td>\n",
              "    </tr>\n",
              "    <tr>\n",
              "      <th>2</th>\n",
              "      <td>Mina Abbassi Ghanavati</td>\n",
              "      <td>(972) 219-2253</td>\n",
              "      <td>n/a</td>\n",
              "    </tr>\n",
              "    <tr>\n",
              "      <th>3</th>\n",
              "      <td>Jodi Abbott</td>\n",
              "      <td>n/a</td>\n",
              "      <td>n/a</td>\n",
              "    </tr>\n",
              "    <tr>\n",
              "      <th>4</th>\n",
              "      <td>Sonya Abdel-Razeq</td>\n",
              "      <td>n/a</td>\n",
              "      <td>sonya.abdel-razeq@yale.edu</td>\n",
              "    </tr>\n",
              "    <tr>\n",
              "      <th>5</th>\n",
              "      <td>David Abel</td>\n",
              "      <td>503-494-2101</td>\n",
              "      <td>abeld@ohsu.edu</td>\n",
              "    </tr>\n",
              "    <tr>\n",
              "      <th>6</th>\n",
              "      <td>Mary Abernathy</td>\n",
              "      <td>n/a</td>\n",
              "      <td>mabernat@lightbound.com</td>\n",
              "    </tr>\n",
              "    <tr>\n",
              "      <th>7</th>\n",
              "      <td>Robert Abrams</td>\n",
              "      <td>n/a</td>\n",
              "      <td>n/a</td>\n",
              "    </tr>\n",
              "    <tr>\n",
              "      <th>8</th>\n",
              "      <td>Courtney Abshier Ware</td>\n",
              "      <td>n/a</td>\n",
              "      <td>n/a</td>\n",
              "    </tr>\n",
              "    <tr>\n",
              "      <th>9</th>\n",
              "      <td>Alfred Abuhamad</td>\n",
              "      <td>757-446-7900</td>\n",
              "      <td>n/a</td>\n",
              "    </tr>\n",
              "  </tbody>\n",
              "</table>\n",
              "</div>\n",
              "      <button class=\"colab-df-convert\" onclick=\"convertToInteractive('df-fee20ac5-1ab4-4fd6-be9e-b52e205141a6')\"\n",
              "              title=\"Convert this dataframe to an interactive table.\"\n",
              "              style=\"display:none;\">\n",
              "        \n",
              "  <svg xmlns=\"http://www.w3.org/2000/svg\" height=\"24px\"viewBox=\"0 0 24 24\"\n",
              "       width=\"24px\">\n",
              "    <path d=\"M0 0h24v24H0V0z\" fill=\"none\"/>\n",
              "    <path d=\"M18.56 5.44l.94 2.06.94-2.06 2.06-.94-2.06-.94-.94-2.06-.94 2.06-2.06.94zm-11 1L8.5 8.5l.94-2.06 2.06-.94-2.06-.94L8.5 2.5l-.94 2.06-2.06.94zm10 10l.94 2.06.94-2.06 2.06-.94-2.06-.94-.94-2.06-.94 2.06-2.06.94z\"/><path d=\"M17.41 7.96l-1.37-1.37c-.4-.4-.92-.59-1.43-.59-.52 0-1.04.2-1.43.59L10.3 9.45l-7.72 7.72c-.78.78-.78 2.05 0 2.83L4 21.41c.39.39.9.59 1.41.59.51 0 1.02-.2 1.41-.59l7.78-7.78 2.81-2.81c.8-.78.8-2.07 0-2.86zM5.41 20L4 18.59l7.72-7.72 1.47 1.35L5.41 20z\"/>\n",
              "  </svg>\n",
              "      </button>\n",
              "      \n",
              "  <style>\n",
              "    .colab-df-container {\n",
              "      display:flex;\n",
              "      flex-wrap:wrap;\n",
              "      gap: 12px;\n",
              "    }\n",
              "\n",
              "    .colab-df-convert {\n",
              "      background-color: #E8F0FE;\n",
              "      border: none;\n",
              "      border-radius: 50%;\n",
              "      cursor: pointer;\n",
              "      display: none;\n",
              "      fill: #1967D2;\n",
              "      height: 32px;\n",
              "      padding: 0 0 0 0;\n",
              "      width: 32px;\n",
              "    }\n",
              "\n",
              "    .colab-df-convert:hover {\n",
              "      background-color: #E2EBFA;\n",
              "      box-shadow: 0px 1px 2px rgba(60, 64, 67, 0.3), 0px 1px 3px 1px rgba(60, 64, 67, 0.15);\n",
              "      fill: #174EA6;\n",
              "    }\n",
              "\n",
              "    [theme=dark] .colab-df-convert {\n",
              "      background-color: #3B4455;\n",
              "      fill: #D2E3FC;\n",
              "    }\n",
              "\n",
              "    [theme=dark] .colab-df-convert:hover {\n",
              "      background-color: #434B5C;\n",
              "      box-shadow: 0px 1px 3px 1px rgba(0, 0, 0, 0.15);\n",
              "      filter: drop-shadow(0px 1px 2px rgba(0, 0, 0, 0.3));\n",
              "      fill: #FFFFFF;\n",
              "    }\n",
              "  </style>\n",
              "\n",
              "      <script>\n",
              "        const buttonEl =\n",
              "          document.querySelector('#df-fee20ac5-1ab4-4fd6-be9e-b52e205141a6 button.colab-df-convert');\n",
              "        buttonEl.style.display =\n",
              "          google.colab.kernel.accessAllowed ? 'block' : 'none';\n",
              "\n",
              "        async function convertToInteractive(key) {\n",
              "          const element = document.querySelector('#df-fee20ac5-1ab4-4fd6-be9e-b52e205141a6');\n",
              "          const dataTable =\n",
              "            await google.colab.kernel.invokeFunction('convertToInteractive',\n",
              "                                                     [key], {});\n",
              "          if (!dataTable) return;\n",
              "\n",
              "          const docLinkHtml = 'Like what you see? Visit the ' +\n",
              "            '<a target=\"_blank\" href=https://colab.research.google.com/notebooks/data_table.ipynb>data table notebook</a>'\n",
              "            + ' to learn more about interactive tables.';\n",
              "          element.innerHTML = '';\n",
              "          dataTable['output_type'] = 'display_data';\n",
              "          await google.colab.output.renderOutput(dataTable, element);\n",
              "          const docLink = document.createElement('div');\n",
              "          docLink.innerHTML = docLinkHtml;\n",
              "          element.appendChild(docLink);\n",
              "        }\n",
              "      </script>\n",
              "    </div>\n",
              "  </div>\n",
              "  "
            ]
          },
          "metadata": {},
          "execution_count": 14
        }
      ]
    },
    {
      "cell_type": "markdown",
      "source": [
        "**Output in Excel**"
      ],
      "metadata": {
        "id": "GsVSoAF6qenu"
      }
    },
    {
      "cell_type": "code",
      "source": [
        "Hey_Doctors.to_excel('Gyno_Doctors.xlsx', index=False)"
      ],
      "metadata": {
        "id": "KDxDyu3OqXHK"
      },
      "execution_count": null,
      "outputs": []
    },
    {
      "cell_type": "markdown",
      "source": [
        "**Pagination**"
      ],
      "metadata": {
        "id": "Cfln9GQWq1MX"
      }
    },
    {
      "cell_type": "code",
      "source": [
        "name = []\n",
        "phone = []\n",
        "email = []\n",
        "\n",
        "# BELOW CODE FOR PAGINATION... FOR MULTIPLE PAGES\n",
        "\n",
        "for i in range (1,219):\n",
        "    \n",
        "    # website in variable\n",
        "    #https://www.smfm.org/members/search\n",
        "    #https://www.smfm.org/members/search?page=2\n",
        "    website = 'https://www.smfm.org/members/search?page='+str(i)\n",
        "    \n",
        "    # request to website\n",
        "    response = requests.get(website)\n",
        "    \n",
        "    # soup object\n",
        "    soup = BeautifulSoup(response.content, 'html.parser')\n",
        "    \n",
        "    # results\n",
        "    results = soup.find_all('article', {'class' : 'member member-result row'})\n",
        "    \n",
        "    # loop through results\n",
        "    \n",
        "\n",
        "    for result in results:\n",
        "      #name\n",
        "      try:\n",
        "        name.append(result.find('h3').get_text()) \n",
        "      except:\n",
        "        name.append('Doctor')\n",
        "    \n",
        "      #phone\n",
        "      try:\n",
        "        phone.append(result.find('span', {'class':'block fa-inline fa-phone'}).get_text())\n",
        "      except:\n",
        "        phone.append('n/a')\n",
        "    \n",
        "      #email\n",
        "      try:\n",
        "        email.append(result.find('a', {'class':'fa-inline fa-envelope block plain'}).get_text())\n",
        "      except:\n",
        "        email.append('n/a')\n",
        "        \n",
        "    "
      ],
      "metadata": {
        "id": "WtwPQLXDq0Zx"
      },
      "execution_count": null,
      "outputs": []
    },
    {
      "cell_type": "code",
      "source": [
        "# dictionary\n",
        "Hey_Doctors = pd.DataFrame({'Name': name, 'Phone':phone, 'Email':email})"
      ],
      "metadata": {
        "id": "lTHU4ZP5qjD1"
      },
      "execution_count": null,
      "outputs": []
    },
    {
      "cell_type": "code",
      "source": [
        "Hey_Doctors"
      ],
      "metadata": {
        "colab": {
          "base_uri": "https://localhost:8080/",
          "height": 424
        },
        "id": "2PiOY1wYreMz",
        "outputId": "447c09ba-579c-4ba7-d9df-8f42f18b1181"
      },
      "execution_count": null,
      "outputs": [
        {
          "output_type": "execute_result",
          "data": {
            "text/plain": [
              "                         Name            Phone                           Email\n",
              "0             Kjersti Aagaard     713-798-8360                aagaardt@bcm.edu\n",
              "1     Iffath Abbasi   Hoskins              n/a        Iffath.Hoskins@nyumc.org\n",
              "2      Mina Abbassi Ghanavati  (972) 219-2253                              n/a\n",
              "3                 Jodi Abbott              n/a                             n/a\n",
              "4           Sonya Abdel-Razeq              n/a      sonya.abdel-razeq@yale.edu\n",
              "...                       ...              ...                             ...\n",
              "2170               Chloe Zera     617-667-2636                             n/a\n",
              "2171                Ming Zhou              n/a         zhoumk@sutterhealth.org\n",
              "2172        Dimitry Zilberman              n/a              zilberdi@gmail.com\n",
              "2173            Marya Zlatnik              n/a                             n/a\n",
              "2174          Lisa Zuckerwise   (914) 420-3838  lisa.zuckerwise@vanderbilt.edu\n",
              "\n",
              "[2175 rows x 3 columns]"
            ],
            "text/html": [
              "\n",
              "  <div id=\"df-f6ee9dd6-0989-4485-a408-483c0438e8d7\">\n",
              "    <div class=\"colab-df-container\">\n",
              "      <div>\n",
              "<style scoped>\n",
              "    .dataframe tbody tr th:only-of-type {\n",
              "        vertical-align: middle;\n",
              "    }\n",
              "\n",
              "    .dataframe tbody tr th {\n",
              "        vertical-align: top;\n",
              "    }\n",
              "\n",
              "    .dataframe thead th {\n",
              "        text-align: right;\n",
              "    }\n",
              "</style>\n",
              "<table border=\"1\" class=\"dataframe\">\n",
              "  <thead>\n",
              "    <tr style=\"text-align: right;\">\n",
              "      <th></th>\n",
              "      <th>Name</th>\n",
              "      <th>Phone</th>\n",
              "      <th>Email</th>\n",
              "    </tr>\n",
              "  </thead>\n",
              "  <tbody>\n",
              "    <tr>\n",
              "      <th>0</th>\n",
              "      <td>Kjersti Aagaard</td>\n",
              "      <td>713-798-8360</td>\n",
              "      <td>aagaardt@bcm.edu</td>\n",
              "    </tr>\n",
              "    <tr>\n",
              "      <th>1</th>\n",
              "      <td>Iffath Abbasi   Hoskins</td>\n",
              "      <td>n/a</td>\n",
              "      <td>Iffath.Hoskins@nyumc.org</td>\n",
              "    </tr>\n",
              "    <tr>\n",
              "      <th>2</th>\n",
              "      <td>Mina Abbassi Ghanavati</td>\n",
              "      <td>(972) 219-2253</td>\n",
              "      <td>n/a</td>\n",
              "    </tr>\n",
              "    <tr>\n",
              "      <th>3</th>\n",
              "      <td>Jodi Abbott</td>\n",
              "      <td>n/a</td>\n",
              "      <td>n/a</td>\n",
              "    </tr>\n",
              "    <tr>\n",
              "      <th>4</th>\n",
              "      <td>Sonya Abdel-Razeq</td>\n",
              "      <td>n/a</td>\n",
              "      <td>sonya.abdel-razeq@yale.edu</td>\n",
              "    </tr>\n",
              "    <tr>\n",
              "      <th>...</th>\n",
              "      <td>...</td>\n",
              "      <td>...</td>\n",
              "      <td>...</td>\n",
              "    </tr>\n",
              "    <tr>\n",
              "      <th>2170</th>\n",
              "      <td>Chloe Zera</td>\n",
              "      <td>617-667-2636</td>\n",
              "      <td>n/a</td>\n",
              "    </tr>\n",
              "    <tr>\n",
              "      <th>2171</th>\n",
              "      <td>Ming Zhou</td>\n",
              "      <td>n/a</td>\n",
              "      <td>zhoumk@sutterhealth.org</td>\n",
              "    </tr>\n",
              "    <tr>\n",
              "      <th>2172</th>\n",
              "      <td>Dimitry Zilberman</td>\n",
              "      <td>n/a</td>\n",
              "      <td>zilberdi@gmail.com</td>\n",
              "    </tr>\n",
              "    <tr>\n",
              "      <th>2173</th>\n",
              "      <td>Marya Zlatnik</td>\n",
              "      <td>n/a</td>\n",
              "      <td>n/a</td>\n",
              "    </tr>\n",
              "    <tr>\n",
              "      <th>2174</th>\n",
              "      <td>Lisa Zuckerwise</td>\n",
              "      <td>(914) 420-3838</td>\n",
              "      <td>lisa.zuckerwise@vanderbilt.edu</td>\n",
              "    </tr>\n",
              "  </tbody>\n",
              "</table>\n",
              "<p>2175 rows × 3 columns</p>\n",
              "</div>\n",
              "      <button class=\"colab-df-convert\" onclick=\"convertToInteractive('df-f6ee9dd6-0989-4485-a408-483c0438e8d7')\"\n",
              "              title=\"Convert this dataframe to an interactive table.\"\n",
              "              style=\"display:none;\">\n",
              "        \n",
              "  <svg xmlns=\"http://www.w3.org/2000/svg\" height=\"24px\"viewBox=\"0 0 24 24\"\n",
              "       width=\"24px\">\n",
              "    <path d=\"M0 0h24v24H0V0z\" fill=\"none\"/>\n",
              "    <path d=\"M18.56 5.44l.94 2.06.94-2.06 2.06-.94-2.06-.94-.94-2.06-.94 2.06-2.06.94zm-11 1L8.5 8.5l.94-2.06 2.06-.94-2.06-.94L8.5 2.5l-.94 2.06-2.06.94zm10 10l.94 2.06.94-2.06 2.06-.94-2.06-.94-.94-2.06-.94 2.06-2.06.94z\"/><path d=\"M17.41 7.96l-1.37-1.37c-.4-.4-.92-.59-1.43-.59-.52 0-1.04.2-1.43.59L10.3 9.45l-7.72 7.72c-.78.78-.78 2.05 0 2.83L4 21.41c.39.39.9.59 1.41.59.51 0 1.02-.2 1.41-.59l7.78-7.78 2.81-2.81c.8-.78.8-2.07 0-2.86zM5.41 20L4 18.59l7.72-7.72 1.47 1.35L5.41 20z\"/>\n",
              "  </svg>\n",
              "      </button>\n",
              "      \n",
              "  <style>\n",
              "    .colab-df-container {\n",
              "      display:flex;\n",
              "      flex-wrap:wrap;\n",
              "      gap: 12px;\n",
              "    }\n",
              "\n",
              "    .colab-df-convert {\n",
              "      background-color: #E8F0FE;\n",
              "      border: none;\n",
              "      border-radius: 50%;\n",
              "      cursor: pointer;\n",
              "      display: none;\n",
              "      fill: #1967D2;\n",
              "      height: 32px;\n",
              "      padding: 0 0 0 0;\n",
              "      width: 32px;\n",
              "    }\n",
              "\n",
              "    .colab-df-convert:hover {\n",
              "      background-color: #E2EBFA;\n",
              "      box-shadow: 0px 1px 2px rgba(60, 64, 67, 0.3), 0px 1px 3px 1px rgba(60, 64, 67, 0.15);\n",
              "      fill: #174EA6;\n",
              "    }\n",
              "\n",
              "    [theme=dark] .colab-df-convert {\n",
              "      background-color: #3B4455;\n",
              "      fill: #D2E3FC;\n",
              "    }\n",
              "\n",
              "    [theme=dark] .colab-df-convert:hover {\n",
              "      background-color: #434B5C;\n",
              "      box-shadow: 0px 1px 3px 1px rgba(0, 0, 0, 0.15);\n",
              "      filter: drop-shadow(0px 1px 2px rgba(0, 0, 0, 0.3));\n",
              "      fill: #FFFFFF;\n",
              "    }\n",
              "  </style>\n",
              "\n",
              "      <script>\n",
              "        const buttonEl =\n",
              "          document.querySelector('#df-f6ee9dd6-0989-4485-a408-483c0438e8d7 button.colab-df-convert');\n",
              "        buttonEl.style.display =\n",
              "          google.colab.kernel.accessAllowed ? 'block' : 'none';\n",
              "\n",
              "        async function convertToInteractive(key) {\n",
              "          const element = document.querySelector('#df-f6ee9dd6-0989-4485-a408-483c0438e8d7');\n",
              "          const dataTable =\n",
              "            await google.colab.kernel.invokeFunction('convertToInteractive',\n",
              "                                                     [key], {});\n",
              "          if (!dataTable) return;\n",
              "\n",
              "          const docLinkHtml = 'Like what you see? Visit the ' +\n",
              "            '<a target=\"_blank\" href=https://colab.research.google.com/notebooks/data_table.ipynb>data table notebook</a>'\n",
              "            + ' to learn more about interactive tables.';\n",
              "          element.innerHTML = '';\n",
              "          dataTable['output_type'] = 'display_data';\n",
              "          await google.colab.output.renderOutput(dataTable, element);\n",
              "          const docLink = document.createElement('div');\n",
              "          docLink.innerHTML = docLinkHtml;\n",
              "          element.appendChild(docLink);\n",
              "        }\n",
              "      </script>\n",
              "    </div>\n",
              "  </div>\n",
              "  "
            ]
          },
          "metadata": {},
          "execution_count": 18
        }
      ]
    },
    {
      "cell_type": "code",
      "source": [
        "Hey_Doctors.to_excel('Gyno_Doctors.xlsx', index=False)"
      ],
      "metadata": {
        "id": "Kad4oEAbrnLV"
      },
      "execution_count": null,
      "outputs": []
    },
    {
      "cell_type": "code",
      "source": [],
      "metadata": {
        "id": "DTiZ_tLGrvRm"
      },
      "execution_count": null,
      "outputs": []
    }
  ]
}