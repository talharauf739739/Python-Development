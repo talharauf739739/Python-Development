{
  "nbformat": 4,
  "nbformat_minor": 0,
  "metadata": {
    "colab": {
      "provenance": []
    },
    "kernelspec": {
      "name": "python3",
      "display_name": "Python 3"
    },
    "language_info": {
      "name": "python"
    }
  },
  "cells": [
    {
      "cell_type": "markdown",
      "source": [
        "**Iterator** \n",
        "\n",
        "An iterator is an object that contains a countable number of values. An iterator is an object that can be iterated upon, meaning that you can traverse through all the values. Technically, in Python, an iterator is an object which implements the iterator protocol, which consist of the methods __iter__() and __next__()"
      ],
      "metadata": {
        "id": "haS2mhbovbJ1"
      }
    },
    {
      "cell_type": "code",
      "source": [
        "# Python program to demonstrate\n",
        "# iterator module\n",
        "\n",
        "\n",
        "import operator\n",
        "import time\n",
        "\n",
        "# Defining lists\n",
        "List_1 = [1, 2, 3]\n",
        "List_2 = [2, 3, 4]\n",
        "\n",
        "# Starting time before map\n",
        "# function\n",
        "time_1 = time.time()\n",
        "\n",
        "# Calculating result\n",
        "a, b, c = map(operator.mul, List_1, List_2)\n",
        "\n",
        "# Ending time after map\n",
        "# function\n",
        "time_2 = time.time()\n",
        "\n",
        "# Time taken by map function\n",
        "print(\"Result:\", a, b, c)\n",
        "print(\"Time taken by map function: %.6f\" %(time_2 - time_1))\n",
        "\n",
        "# Starting time before naive\n",
        "# method\n",
        "time_1 = time.time()\n",
        "\n",
        "# Calculating result using for loop\n",
        "print(\"Result:\", end = \" \")\n",
        "for i in range(3):\n",
        "\tprint(List_1[i] * List_2[i], end = \" \")\n",
        "\t\n",
        "# Ending time after naive\n",
        "# method\n",
        "time_2 = time.time()\n",
        "print(\"\\nTime taken by for loop: %.6f\" %(time_2 - time_1))\n"
      ],
      "metadata": {
        "colab": {
          "base_uri": "https://localhost:8080/"
        },
        "id": "kw36Hyc3vgcl",
        "outputId": "c62e1bf6-497a-46a2-f009-39b9750ad065"
      },
      "execution_count": null,
      "outputs": [
        {
          "output_type": "stream",
          "name": "stdout",
          "text": [
            "Result: 2 6 12\n",
            "Time taken by map function: 0.000085\n",
            "Result: 2 6 12 \n",
            "Time taken by for loop: 0.002521\n"
          ]
        }
      ]
    },
    {
      "cell_type": "markdown",
      "source": [
        "From above example, it can be seen that the time taken by the map function is approximately half than the time taken by for loop. This shows that itertools are fast, memory-efficient tools."
      ],
      "metadata": {
        "id": "OCLi7qMaxP48"
      }
    },
    {
      "cell_type": "markdown",
      "source": [
        "**Python Itertools**\n",
        "\n",
        "Python’s Itertool is a module that provides various functions that work on iterators to produce complex iterators. This module works as a fast, memory-efficient tool that is used either by themselves or in combination to form iterator algebra.\n",
        "\n",
        "**Different types of iterators provided by this module are:**\n",
        "\n",
        "Infinite iterators\n",
        "\n",
        "Combinatoric iterators\n",
        "\n",
        "Terminating iterators\n",
        "\n",
        "\n",
        "\n",
        "1.   **Infinite iterators**\n",
        "\n",
        "Any Python type that can be used with a ‘for in loop’. Python lists, tuples, dictionaries, and sets are all examples of inbuilt iterators. But it is not necessary that an iterator object has to exhaust, sometimes it can be infinite. Such types of iterators are known as Infinite iterators.\n",
        "\n",
        "**count(start, step):** This iterator starts printing from the “start” number and prints infinitely. If steps are mentioned, the numbers are skipped else step is 1 by default. See the below example for its use with for in loop.\n",
        "Example:\n",
        "\n",
        "\n"
      ],
      "metadata": {
        "id": "IJZiqkP9z4uE"
      }
    },
    {
      "cell_type": "code",
      "source": [
        "# Python program to demonstrate\n",
        "# infinite iterators\n",
        "\n",
        "import itertools\n",
        "\n",
        "# for in loop\n",
        "for i in itertools.count(2, 2):\n",
        "\tif i == 12:\n",
        "\t\tbreak\n",
        "\telse:\n",
        "\t\tprint(i, end =\" \")\n"
      ],
      "metadata": {
        "colab": {
          "base_uri": "https://localhost:8080/"
        },
        "id": "rFGKNWd44Rn8",
        "outputId": "97df1b52-2492-47cd-f665-9b46debc1fbf"
      },
      "execution_count": null,
      "outputs": [
        {
          "output_type": "stream",
          "name": "stdout",
          "text": [
            "2 4 6 8 10 "
          ]
        }
      ]
    },
    {
      "cell_type": "markdown",
      "source": [
        "**cycle(iterable):** This iterator prints all values in order from the passed container. It restarts printing from the beginning again when all elements are printed in a cyclic manner.\n",
        "Example 1:"
      ],
      "metadata": {
        "id": "iTt0OR784cR7"
      }
    },
    {
      "cell_type": "code",
      "source": [
        "# Python program to demonstrate\n",
        "# infinite iterators\n",
        "\n",
        "import itertools\n",
        "\n",
        "count = 0\n",
        "\n",
        "# for in loop\n",
        "for i in itertools.cycle('TALHARAUF'):\n",
        "\tif count > 17:\n",
        "\t\tbreak\n",
        "\telse:\n",
        "\t\tprint(i, end = \" \")\n",
        "\t\tcount += 1\n"
      ],
      "metadata": {
        "colab": {
          "base_uri": "https://localhost:8080/"
        },
        "id": "9PNP_qrMxIfU",
        "outputId": "9e01250e-bf2f-4a78-c04e-d301275480fd"
      },
      "execution_count": null,
      "outputs": [
        {
          "output_type": "stream",
          "name": "stdout",
          "text": [
            "T A L H A R A U F T A L H A R A U F "
          ]
        }
      ]
    },
    {
      "cell_type": "markdown",
      "source": [
        "Using the **Next Function**"
      ],
      "metadata": {
        "id": "kLfQYWdL7eMK"
      }
    },
    {
      "cell_type": "code",
      "source": [
        "# Python program to demonstrate\n",
        "# infinite iterators\n",
        "\n",
        "import itertools\n",
        "\n",
        "l = ['Talha', 'Rauf']\n",
        "\n",
        "# defining iterator\n",
        "iterators = itertools.cycle(l)\n",
        "\n",
        "# for in loop\n",
        "for i in range(6):\n",
        "\t\n",
        "\t# Using next function\n",
        "\tprint(next(iterators), end = \" \")\n"
      ],
      "metadata": {
        "colab": {
          "base_uri": "https://localhost:8080/"
        },
        "id": "_DEQj8Du7dla",
        "outputId": "28dfe28f-1a50-4c2f-94c9-aff0256f2b87"
      },
      "execution_count": null,
      "outputs": [
        {
          "output_type": "stream",
          "name": "stdout",
          "text": [
            "Talha Rauf Talha Rauf Talha Rauf "
          ]
        }
      ]
    },
    {
      "cell_type": "markdown",
      "source": [
        "**repeat(val, num):** This iterator repeatedly prints the passed value an infinite number of times. If the optional keyword num is mentioned, then it repeatedly prints num number of times."
      ],
      "metadata": {
        "id": "k4wEJEW4jOaS"
      }
    },
    {
      "cell_type": "code",
      "source": [
        "# Python code to demonstrate the working of\n",
        "# repeat()\n",
        "\t\n",
        "# importing \"itertools\" for iterator operations\n",
        "import itertools\n",
        "\t\n",
        "# using repeat() to repeatedly print number\n",
        "print (\"Printing the numbers repeatedly : \")\n",
        "print (list(itertools.repeat(100, 4)))\n"
      ],
      "metadata": {
        "id": "OrDzO9rLjU7K"
      },
      "execution_count": null,
      "outputs": []
    },
    {
      "cell_type": "markdown",
      "source": [
        "**Combinatoric iterators**\n",
        "\n",
        "The recursive generators that are used to simplify combinatorial constructs \n",
        "such as permutations, combinations, and Cartesian products are called combinatoric iterators.\n",
        "In Python there are 4 combinatoric iterators: \n",
        "\n",
        "1.   Product()\n",
        "2.   Permutations()\n",
        "3.   Combinations()\n",
        "4.   Combinations_with_replacement()\n",
        "\n",
        "\n",
        "\n",
        "\n"
      ],
      "metadata": {
        "id": "QFnkBf91j-qS"
      }
    },
    {
      "cell_type": "markdown",
      "source": [
        "**Product():** This tool computes the cartesian product of input iterables. To compute the product of an iterable with itself, we use the optional repeat keyword argument to specify the number of repetitions. The output of this function is tuples in sorted order."
      ],
      "metadata": {
        "id": "25giig0DlZM6"
      }
    },
    {
      "cell_type": "code",
      "source": [
        "# import the product function from itertools module\n",
        "from itertools import product\n",
        "\n",
        "print(\"The cartesian product using repeat:\")\n",
        "print(list(product([1, 2], repeat = 2)))\n",
        "print()\n",
        "\n",
        "print(\"The cartesian product of the containers:\")\n",
        "print(list(product(['Talha', 'Rauf'], '2')))\n",
        "print()\n",
        "\n",
        "print(\"The cartesian product of the containers:\")\n",
        "print(list(product('AB', [3, 4])))\n"
      ],
      "metadata": {
        "colab": {
          "base_uri": "https://localhost:8080/"
        },
        "id": "0Lfqe02Aldwh",
        "outputId": "b58c7921-6960-409c-e388-69e6219900d1"
      },
      "execution_count": 1,
      "outputs": [
        {
          "output_type": "stream",
          "name": "stdout",
          "text": [
            "The cartesian product using repeat:\n",
            "[(1, 1), (1, 2), (2, 1), (2, 2)]\n",
            "\n",
            "The cartesian product of the containers:\n",
            "[('Talha', '2'), ('Rauf', '2')]\n",
            "\n",
            "The cartesian product of the containers:\n",
            "[('A', 3), ('A', 4), ('B', 3), ('B', 4)]\n"
          ]
        }
      ]
    },
    {
      "cell_type": "markdown",
      "source": [
        "**Permutations():** Permutations() as the name speaks for itself is used to generate all possible permutations of an iterable. All elements are treated as unique based on their position and not their values. This function takes an iterable and group_size, if the value of group_size is not specified or is equal to None then the value of group_size becomes the length of the iterable."
      ],
      "metadata": {
        "id": "yf4QM6YgnfMA"
      }
    },
    {
      "cell_type": "code",
      "source": [
        "# import the product function from itertools module\n",
        "from itertools import permutations\n",
        "\n",
        "print (\"All the permutations of the given list is:\")\n",
        "print (list(permutations([1, 'Talha'], 2)))\n",
        "print()\n",
        "\n",
        "print (\"All the permutations of the given string is:\")\n",
        "print (list(permutations('TALHA')))\n",
        "print()\n",
        "\n",
        "print (\"All the permutations of the given container is:\")\n",
        "print(list(permutations(range(3), 2)))\n"
      ],
      "metadata": {
        "colab": {
          "base_uri": "https://localhost:8080/"
        },
        "id": "9oH72UmZnh1Z",
        "outputId": "3b23d043-1b15-4986-9818-335c15a0f799"
      },
      "execution_count": 2,
      "outputs": [
        {
          "output_type": "stream",
          "name": "stdout",
          "text": [
            "All the permutations of the given list is:\n",
            "[(1, 'Talha'), ('Talha', 1)]\n",
            "\n",
            "All the permutations of the given string is:\n",
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n",
            "\n",
            "All the permutations of the given container is:\n",
            "[(0, 1), (0, 2), (1, 0), (1, 2), (2, 0), (2, 1)]\n"
          ]
        }
      ]
    },
    {
      "cell_type": "markdown",
      "source": [
        "**Combinations():** This iterator prints all the possible combinations(without replacement) of the container passed in arguments in the specified group size in sorted order."
      ],
      "metadata": {
        "id": "_2zmJP69nrvY"
      }
    },
    {
      "cell_type": "code",
      "source": [
        "# import combinations from itertools module\n",
        "\n",
        "from itertools import combinations\n",
        "\n",
        "print (\"All the combination of list in sorted order(without replacement) is:\")\n",
        "print(list(combinations(['A', 2], 2)))\n",
        "print()\n",
        "\n",
        "print (\"All the combination of string in sorted order(without replacement) is:\")\n",
        "print(list(combinations('AB', 2)))\n",
        "print()\n",
        "\n",
        "print (\"All the combination of list in sorted order(without replacement) is:\")\n",
        "print(list(combinations(range(2), 1)))\n"
      ],
      "metadata": {
        "colab": {
          "base_uri": "https://localhost:8080/"
        },
        "id": "w_8DUy3Untax",
        "outputId": "98dc6024-2af9-4e1b-c811-f94dd6a5767d"
      },
      "execution_count": 3,
      "outputs": [
        {
          "output_type": "stream",
          "name": "stdout",
          "text": [
            "All the combination of list in sorted order(without replacement) is:\n",
            "[('A', 2)]\n",
            "\n",
            "All the combination of string in sorted order(without replacement) is:\n",
            "[('A', 'B')]\n",
            "\n",
            "All the combination of list in sorted order(without replacement) is:\n",
            "[(0,), (1,)]\n"
          ]
        }
      ]
    },
    {
      "cell_type": "markdown",
      "source": [
        "**Combinations_with_replacement():** This function returns a subsequence of length n from the elements of the iterable where n is the argument that the function takes determining the length of the subsequences generated by the function. Individual elements may repeat itself in combinations_with_replacement function."
      ],
      "metadata": {
        "id": "zFNdINbVnyt4"
      }
    },
    {
      "cell_type": "code",
      "source": [
        "# import combinations from itertools module\n",
        "\n",
        "from itertools import combinations_with_replacement\n",
        "\n",
        "print (\"All the combination of string in sorted order(with replacement) is:\")\n",
        "print(list(combinations_with_replacement(\"TALHA\", 2)))\n",
        "print()\n",
        "\n",
        "print (\"All the combination of list in sorted order(with replacement) is:\")\n",
        "print(list(combinations_with_replacement([1, 2], 2)))\n",
        "print()\n",
        "\n",
        "print (\"All the combination of container in sorted order(with replacement) is:\")\n",
        "print(list(combinations_with_replacement(range(2), 1)))\n"
      ],
      "metadata": {
        "colab": {
          "base_uri": "https://localhost:8080/"
        },
        "id": "fMKYwLvan1Vz",
        "outputId": "8daa5ff0-69c6-45cf-fa7d-f4c85a240ae8"
      },
      "execution_count": 4,
      "outputs": [
        {
          "output_type": "stream",
          "name": "stdout",
          "text": [
            "All the combination of string in sorted order(with replacement) is:\n",
            "[('T', 'T'), ('T', 'A'), ('T', 'L'), ('T', 'H'), ('T', 'A'), ('A', 'A'), ('A', 'L'), ('A', 'H'), ('A', 'A'), ('L', 'L'), ('L', 'H'), ('L', 'A'), ('H', 'H'), ('H', 'A'), ('A', 'A')]\n",
            "\n",
            "All the combination of list in sorted order(with replacement) is:\n",
            "[(1, 1), (1, 2), (2, 2)]\n",
            "\n",
            "All the combination of container in sorted order(with replacement) is:\n",
            "[(0,), (1,)]\n"
          ]
        }
      ]
    },
    {
      "cell_type": "markdown",
      "source": [
        "**Terminating iterators**\n",
        "Terminating iterators are used to work on the short input sequences and produce the output based on the functionality of the method used.\n",
        "\n",
        "Different types of terminating iterators are: \n",
        "\n",
        "**accumulate(iter, func):** This iterator takes two arguments, iterable target and the function which would be followed at each iteration of value in target. If no function is passed, addition takes place by default. If the input iterable is empty, the output iterable will also be empty."
      ],
      "metadata": {
        "id": "Vmk3PxQiohVZ"
      }
    },
    {
      "cell_type": "code",
      "source": [
        "# Python code to demonstrate the working of\n",
        "# accumulate()\n",
        "\n",
        "\n",
        "import itertools\n",
        "import operator\n",
        "\n",
        "# initializing list 1\n",
        "li1 = [1, 4, 5, 7]\n",
        "\n",
        "# using accumulate()\n",
        "# prints the successive summation of elements\n",
        "print (\"The sum after each iteration is : \", end =\"\")\n",
        "print (list(itertools.accumulate(li1)))\n",
        "\n",
        "# using accumulate()\n",
        "# prints the successive multiplication of elements\n",
        "print (\"The product after each iteration is : \", end =\"\")\n",
        "print (list(itertools.accumulate(li1, operator.mul)))\n",
        "\n",
        "# using accumulate()\n",
        "# prints the successive summation of elements\n",
        "print (\"The sum after each iteration is : \", end =\"\")\n",
        "print (list(itertools.accumulate(li1)))\n",
        "\n",
        "# using accumulate()\n",
        "# prints the successive multiplication of elements\n",
        "print (\"The product after each iteration is : \", end =\"\")\n",
        "print (list(itertools.accumulate(li1, operator.mul)))\n"
      ],
      "metadata": {
        "colab": {
          "base_uri": "https://localhost:8080/"
        },
        "id": "8aCj3yfpoq15",
        "outputId": "ab39e457-a39d-4929-8921-ae4a323bf325"
      },
      "execution_count": 5,
      "outputs": [
        {
          "output_type": "stream",
          "name": "stdout",
          "text": [
            "The sum after each iteration is : [1, 5, 10, 17]\n",
            "The product after each iteration is : [1, 4, 20, 140]\n",
            "The sum after each iteration is : [1, 5, 10, 17]\n",
            "The product after each iteration is : [1, 4, 20, 140]\n"
          ]
        }
      ]
    },
    {
      "cell_type": "markdown",
      "source": [
        "**chain(iter1, iter2..):**This function is used to print all the values in iterable targets one after another mentioned in its arguments.\n",
        "Example:"
      ],
      "metadata": {
        "id": "op4-cf1ppPbR"
      }
    },
    {
      "cell_type": "code",
      "source": [
        "# Python code to demonstrate the working of\n",
        "# and chain()\n",
        "\n",
        "\n",
        "import itertools\n",
        "\n",
        "# initializing list 1\n",
        "li1 = [1, 4, 5, 7]\n",
        "\n",
        "# initializing list 2\n",
        "li2 = [1, 6, 5, 9]\n",
        "\n",
        "# initializing list 3\n",
        "li3 = [8, 10, 5, 4]\n",
        "\n",
        "# using chain() to print all elements of lists\n",
        "print (\"All values in mentioned chain are : \", end =\"\")\n",
        "print (list(itertools.chain(li1, li2, li3)))\n"
      ],
      "metadata": {
        "colab": {
          "base_uri": "https://localhost:8080/"
        },
        "id": "yj3uHPNkogq5",
        "outputId": "0fc10c4f-290b-4f34-ecff-c66db59f0177"
      },
      "execution_count": 6,
      "outputs": [
        {
          "output_type": "stream",
          "name": "stdout",
          "text": [
            "All values in mentioned chain are : [1, 4, 5, 7, 1, 6, 5, 9, 8, 10, 5, 4]\n"
          ]
        }
      ]
    },
    {
      "cell_type": "markdown",
      "source": [
        "**compress(iter, selector):** This iterator selectively picks the values to print from the passed container according to the boolean list value passed as other arguments. The arguments corresponding to boolean true are printed else all are skipped.\n",
        "Example:"
      ],
      "metadata": {
        "id": "5Dpt4j0ipf8w"
      }
    },
    {
      "cell_type": "code",
      "source": [
        "# Python code to demonstrate the working of\n",
        "# and compress()\n",
        "\n",
        "\n",
        "import itertools\n",
        "\n",
        "\n",
        "# using compress() selectively print data values\n",
        "print (\"The compressed values in string are : \", end =\"\")\n",
        "print (list(itertools.compress('TALHARAUF', [1, 0, 0, 0, 0, 1, 0, 0, 1, 0, 0, 0, 0])))\n"
      ],
      "metadata": {
        "colab": {
          "base_uri": "https://localhost:8080/"
        },
        "id": "h8GunL3ape1K",
        "outputId": "76af19c8-7f39-4936-c227-0645b494a560"
      },
      "execution_count": 7,
      "outputs": [
        {
          "output_type": "stream",
          "name": "stdout",
          "text": [
            "The compressed values in string are : ['T', 'R', 'F']\n"
          ]
        }
      ]
    },
    {
      "cell_type": "markdown",
      "source": [
        "**dropwhile(func, seq):** This iterator starts printing the characters only after the func. in argument returns false for the first time.\n",
        "Example:"
      ],
      "metadata": {
        "id": "Fk23ktrKqEww"
      }
    },
    {
      "cell_type": "code",
      "source": [
        "# Python code to demonstrate the working of\n",
        "# dropwhile()\n",
        "\n",
        "\n",
        "import itertools\n",
        "\n",
        "\n",
        "# initializing list\n",
        "li = [2, 4, 5, 7, 8]\n",
        "\n",
        "# using dropwhile() to start displaying after condition is false\n",
        "print (\"The values after condition returns false : \", end =\"\")\n",
        "print (list(itertools.dropwhile(lambda x : x % 2 == 0, li)))\n"
      ],
      "metadata": {
        "colab": {
          "base_uri": "https://localhost:8080/"
        },
        "id": "8dUhJVv1qGIY",
        "outputId": "c2590a5e-b2f5-4d41-c3d7-8a9716089ef1"
      },
      "execution_count": 8,
      "outputs": [
        {
          "output_type": "stream",
          "name": "stdout",
          "text": [
            "The values after condition returns false : [5, 7, 8]\n"
          ]
        }
      ]
    },
    {
      "cell_type": "markdown",
      "source": [
        "**filterfalse(func, seq):** As the name suggests, this iterator prints only values that return false for the passed function.\n",
        "Example:"
      ],
      "metadata": {
        "id": "h76fyks7qK54"
      }
    },
    {
      "cell_type": "code",
      "source": [
        "# Python code to demonstrate the working of\n",
        "# filterfalse()\n",
        "\n",
        "\n",
        "import itertools\n",
        "\n",
        "# initializing list\n",
        "li = [2, 4, 5, 7, 8]\n",
        "\n",
        "# using filterfalse() to print false values\n",
        "print (\"The values that return false to function are : \", end =\"\")\n",
        "print (list(itertools.filterfalse(lambda x : x % 2 == 0, li)))\n"
      ],
      "metadata": {
        "colab": {
          "base_uri": "https://localhost:8080/"
        },
        "id": "W2Ru8Q-XqMMg",
        "outputId": "3c843e80-a1c2-43af-b099-c0660d13194a"
      },
      "execution_count": 9,
      "outputs": [
        {
          "output_type": "stream",
          "name": "stdout",
          "text": [
            "The values that return false to function are : [5, 7]\n"
          ]
        }
      ]
    },
    {
      "cell_type": "markdown",
      "source": [
        "**islice(iterable, start, stop, step):**This iterator selectively prints the values mentioned in its iterable container passed as argument. This iterator takes 4 arguments, iterable container, starting pos., ending position and step."
      ],
      "metadata": {
        "id": "SwPmgO2gqR8I"
      }
    },
    {
      "cell_type": "code",
      "source": [
        "# Python code to demonstrate the working of\n",
        "# islice()\n",
        "\n",
        "\n",
        "import itertools\n",
        "\n",
        "# initializing list\n",
        "li = [2, 4, 5, 7, 8, 10, 20]\n",
        "\t\n",
        "# using islice() to slice the list acc. to need\n",
        "# starts printing from 2nd index till 6th skipping 2\n",
        "print (\"The sliced list values are : \", end =\"\")\n",
        "print (list(itertools.islice(li, 1, 6, 2)))\n"
      ],
      "metadata": {
        "colab": {
          "base_uri": "https://localhost:8080/"
        },
        "id": "X3QIIY1_qTnA",
        "outputId": "8c63c841-fecd-4ebf-f43f-001311c09559"
      },
      "execution_count": 10,
      "outputs": [
        {
          "output_type": "stream",
          "name": "stdout",
          "text": [
            "The sliced list values are : [4, 7, 10]\n"
          ]
        }
      ]
    },
    {
      "cell_type": "markdown",
      "source": [
        "**starmap(func., tuple list):** This iterator takes a function and tuple list as argument and returns the value according to the function from each tuple of the list.\n",
        "Example:"
      ],
      "metadata": {
        "id": "d3_o9jIcqjRp"
      }
    },
    {
      "cell_type": "code",
      "source": [
        "# Python code to demonstrate the working of\n",
        "# starmap()\n",
        "\n",
        "\n",
        "import itertools\n",
        "\n",
        "\n",
        "# initializing tuple list\n",
        "li = [ (1, 10, 5), (8, 4, 1), (5, 4, 9), (11, 10, 1) ]\n",
        "\n",
        "# using starmap() for selection value acc. to function\n",
        "# selects min of all tuple values\n",
        "print (\"The values acc. to function are : \", end =\"\")\n",
        "print (list(itertools.starmap(min, li)))\n"
      ],
      "metadata": {
        "colab": {
          "base_uri": "https://localhost:8080/"
        },
        "id": "72w7ApbIjMwL",
        "outputId": "d55aad63-3fad-4821-d7df-26ac57935ff6"
      },
      "execution_count": 11,
      "outputs": [
        {
          "output_type": "stream",
          "name": "stdout",
          "text": [
            "The values acc. to function are : [1, 1, 4, 1]\n"
          ]
        }
      ]
    },
    {
      "cell_type": "markdown",
      "source": [
        "**takewhile(func, iterable):** This iterator is the opposite of dropwhile(), it prints the values till the function returns false for 1st time."
      ],
      "metadata": {
        "id": "d8lOBcznqvfY"
      }
    },
    {
      "cell_type": "code",
      "source": [
        "# Python code to demonstrate the working of\n",
        "# takewhile()\n",
        "\n",
        "\n",
        "import itertools\n",
        "\n",
        "# initializing list\n",
        "li = [2, 4, 6, 7, 8, 10, 20]\n",
        "\n",
        "# using takewhile() to print values till condition is false.\n",
        "print (\"The list values till 1st false value are : \", end =\"\")\n",
        "print (list(itertools.takewhile(lambda x : x % 2 == 0, li )))\n"
      ],
      "metadata": {
        "colab": {
          "base_uri": "https://localhost:8080/"
        },
        "id": "iAKWuOtWqyCp",
        "outputId": "2d1b8e42-e8e2-48f0-d7b8-3d9a2d2290a7"
      },
      "execution_count": 12,
      "outputs": [
        {
          "output_type": "stream",
          "name": "stdout",
          "text": [
            "The list values till 1st false value are : [2, 4, 6]\n"
          ]
        }
      ]
    },
    {
      "cell_type": "markdown",
      "source": [
        "**tee(iterator, count):-** This iterator splits the container into a number of iterators mentioned in the argument."
      ],
      "metadata": {
        "id": "2BG5DaYTrESY"
      }
    },
    {
      "cell_type": "code",
      "source": [
        "# Python code to demonstrate the working of\n",
        "# tee()\n",
        "\n",
        "\n",
        "import itertools\n",
        "\n",
        "# initializing list\n",
        "li = [2, 4, 6, 7, 8, 10, 20]\n",
        "\n",
        "# storing list in iterator\n",
        "iti = iter(li)\n",
        "\n",
        "# using tee() to make a list of iterators\n",
        "# makes list of 3 iterators having same values.\n",
        "it = itertools.tee(iti, 3)\n",
        "\n",
        "# printing the values of iterators\n",
        "print (\"The iterators are : \")\n",
        "for i in range (0, 3):\n",
        "\tprint (list(it[i]))\n"
      ],
      "metadata": {
        "colab": {
          "base_uri": "https://localhost:8080/"
        },
        "id": "-kUIQGYxq0W3",
        "outputId": "b7b0073e-4886-44e1-fe37-e486bc184ce9"
      },
      "execution_count": 13,
      "outputs": [
        {
          "output_type": "stream",
          "name": "stdout",
          "text": [
            "The iterators are : \n",
            "[2, 4, 6, 7, 8, 10, 20]\n",
            "[2, 4, 6, 7, 8, 10, 20]\n",
            "[2, 4, 6, 7, 8, 10, 20]\n"
          ]
        }
      ]
    },
    {
      "cell_type": "markdown",
      "source": [
        "**zip_longest( iterable1, iterable2, fillval):** This iterator prints the values of iterables alternatively in sequence. If one of the iterables is printed fully, the remaining values are filled by the values assigned to fillvalue.\n",
        "Example:"
      ],
      "metadata": {
        "id": "BwyeiaWZrTt4"
      }
    },
    {
      "cell_type": "code",
      "source": [
        "# Python code to demonstrate the working of\n",
        "# zip_longest()\n",
        "\n",
        "\n",
        "import itertools\n",
        "\n",
        "# using zip_longest() to combine two iterables.\n",
        "print (\"The combined values of iterables is : \")\n",
        "print (*(itertools.zip_longest('Talha', 'Rauf', fillvalue ='_' )))\n"
      ],
      "metadata": {
        "colab": {
          "base_uri": "https://localhost:8080/"
        },
        "id": "wOOnWt-qrV5g",
        "outputId": "2cd17ec9-830f-49be-a39e-3c2350319fa8"
      },
      "execution_count": 15,
      "outputs": [
        {
          "output_type": "stream",
          "name": "stdout",
          "text": [
            "The combined values of iterables is : \n",
            "('T', 'R') ('a', 'a') ('l', 'u') ('h', 'f') ('a', '_')\n"
          ]
        }
      ]
    },
    {
      "cell_type": "code",
      "source": [],
      "metadata": {
        "id": "x0U2RpQ4rJox"
      },
      "execution_count": null,
      "outputs": []
    }
  ]
}