{
  "nbformat": 4,
  "nbformat_minor": 0,
  "metadata": {
    "colab": {
      "provenance": []
    },
    "kernelspec": {
      "name": "python3",
      "display_name": "Python 3"
    },
    "language_info": {
      "name": "python"
    }
  },
  "cells": [
    {
      "cell_type": "markdown",
      "source": [
        "**Dunder or magic methods in Python**"
      ],
      "metadata": {
        "id": "7YkiMm0qdNgp"
      }
    },
    {
      "cell_type": "markdown",
      "source": [
        "Dunder or magic methods in Python are the methods having two prefix and suffix underscores in the method name. Dunder here means “Double Under (Underscores)”. These are commonly used for operator overloading. Few examples for magic methods are: __init__, __add__, __len__, __repr__ etc.\n",
        "\n",
        "The __init__ method for initialization is invoked without any call, when an instance of a class is created, like constructors in certain other programming languages such as C++, Java, C#, PHP etc. These methods are the reason we can add two strings with ‘+’ operator without any explicit typecasting."
      ],
      "metadata": {
        "id": "l0VEkPpDdWAP"
      }
    },
    {
      "cell_type": "code",
      "source": [
        "# declare our own string class\n",
        "class String:\n",
        "\t\n",
        "\t# magic method to initiate object\n",
        "\tdef __init__(self, string):\n",
        "\t\tself.string = string\n",
        "\t\t\n",
        "# Driver Code\n",
        "if __name__ == '__main__':\n",
        "\t\n",
        "\t# object creation\n",
        "\tstring1 = String('Talha')\n",
        "\n",
        "\t# print object location\n",
        "\tprint(string1)\n"
      ],
      "metadata": {
        "colab": {
          "base_uri": "https://localhost:8080/",
          "height": 0
        },
        "id": "_X0FxLyZdRO_",
        "outputId": "6970888f-71d5-4057-97c3-bc26fd09c527"
      },
      "execution_count": 2,
      "outputs": [
        {
          "output_type": "stream",
          "name": "stdout",
          "text": [
            "<__main__.String object at 0x7f92080cbb80>\n"
          ]
        }
      ]
    },
    {
      "cell_type": "markdown",
      "source": [
        "The above snippet of code prints only the memory address of the string object. Let’s add a **__repr__**  **method** to represent our object."
      ],
      "metadata": {
        "id": "ggpN7eljdiYn"
      }
    },
    {
      "cell_type": "code",
      "source": [
        "# declare our own string class\n",
        "class String:\n",
        "\t\n",
        "\t# magic method to initiate object\n",
        "\tdef __init__(self, string):\n",
        "\t\tself.string = string\n",
        "\t\t\n",
        "\t# print our string object\n",
        "\tdef __repr__(self):\n",
        "\t\treturn 'Object: {}'.format(self.string)\n",
        "\n",
        "# Driver Code\n",
        "if __name__ == '__main__':\n",
        "\t\n",
        "\t# object creation\n",
        "\tstring1 = String('Talha')\n",
        "\n",
        "\t# print object location\n",
        "\tprint(string1)\n"
      ],
      "metadata": {
        "colab": {
          "base_uri": "https://localhost:8080/",
          "height": 0
        },
        "id": "J0GBaitGdbVb",
        "outputId": "4fac5897-d350-4817-e510-f03af534cd9e"
      },
      "execution_count": 3,
      "outputs": [
        {
          "output_type": "stream",
          "name": "stdout",
          "text": [
            "Object: Talha\n"
          ]
        }
      ]
    },
    {
      "cell_type": "markdown",
      "source": [
        "**If we try to add a string to it :**"
      ],
      "metadata": {
        "id": "nMwLgzzrfG7o"
      }
    },
    {
      "cell_type": "code",
      "source": [
        "# declare our own string class\n",
        "class String:\n",
        "\t\n",
        "\t# magic method to initiate object\n",
        "\tdef __init__(self, string):\n",
        "\t\tself.string = string\n",
        "\t\t\n",
        "\t# print our string object\n",
        "\tdef __repr__(self):\n",
        "\t\treturn 'Object: {}'.format(self.string)\n",
        "\t\t\n",
        "\tdef __add__(self, other):\n",
        "\t\treturn self.string + other\n",
        "\n",
        "# Driver Code\n",
        "if __name__ == '__main__':\n",
        "\t\n",
        "\t# object creation\n",
        "\tstring1 = String('Talha')\n",
        "\t\n",
        "\t# concatenate String object and a string\n",
        "\tprint(string1 +' Rauf')\n"
      ],
      "metadata": {
        "colab": {
          "base_uri": "https://localhost:8080/",
          "height": 0
        },
        "id": "l2yiRXNMkk61",
        "outputId": "093f58b1-a02d-46fe-e2a3-cec6c66c19b5"
      },
      "execution_count": 19,
      "outputs": [
        {
          "output_type": "stream",
          "name": "stdout",
          "text": [
            "Talha Rauf\n"
          ]
        }
      ]
    }
  ]
}